{
 "cells": [
  {
   "cell_type": "markdown",
   "metadata": {},
   "source": [
    "# Trabalho Prático 1 - Compressão de imagens\n",
    "## Introdução à Computação Visual - 2020/1\n",
    "#### Integrantes:\n",
    "* Otávio Augusto Silva - 2016006808\n",
    "* Luiz Henrique de Melo Santos - 2017014464"
   ]
  },
  {
   "cell_type": "markdown",
   "metadata": {},
   "source": [
    "Neste Trabalho Prático será feita a implementação de uma aplicação para compressão de imagens sem perdas, por meio do Algoritmo de Huffman para a codificação da imagem."
   ]
  },
  {
   "cell_type": "code",
   "execution_count": 23,
   "metadata": {},
   "outputs": [],
   "source": [
    "import numpy\n",
    "import warnings\n",
    "from itertools import chain\n",
    "from collections import Counter\n",
    "from PIL import Image, ImageChops"
   ]
  },
  {
   "cell_type": "markdown",
   "metadata": {},
   "source": [
    "Para a realizaçãp da compactação (e descompressão) com eficácia, precisamos ser capazes de tratar nossa saída (ou entrada) como um fluxo de bits individuais. As bibliotecas Python padrão não fornecem uma solução direta para fazer isso - na granularidade mais baixa, só podemos ler ou gravar um arquivo um byte de cada vez.\n",
    "\n",
    "Como queremos codificar valores que podem consistir em vários bits, é essencial decodificar como eles devem ser ordenados com base na significância. Por isto ordenamos do mais significativo para o menos significativo, por meio de um BitStream."
   ]
  },
  {
   "cell_type": "markdown",
   "metadata": {},
   "source": [
    "Para os bits de entrada, queremos ler 1 ou mais bits por vez. Para isso, carregamos os bytes do arquivo, convertemos cada byte em uma lista de bits e o adicionamos ao buffer, até que haja o suficiente para atender à solicitação de leitura.\n",
    "\n",
    "O comando flush, neste caso, limpa o buffer (garantindo que ele contenha apenas zeros)."
   ]
  },
  {
   "cell_type": "code",
   "execution_count": 24,
   "metadata": {},
   "outputs": [],
   "source": [
    "# Classe responsavel pelo armazenamento e operacoes na estrutura de bits que\n",
    "# sera utilizada na aplicacao para o arquivo de entrada\n",
    "\n",
    "class InputBitStream:\n",
    "    def __init__(self, file_name): \n",
    "        self.file_name = file_name\n",
    "        self.file = open(self.file_name, 'rb') \n",
    "        self.bytes_read = 0\n",
    "        self.buffer = []\n",
    "\n",
    "    def read_bit(self):\n",
    "        return self.read_bits(1)[0]\n",
    "\n",
    "    def read_bits(self, count):\n",
    "        while len(self.buffer) < count:\n",
    "            self._load_byte()\n",
    "        result = self.buffer[:count]\n",
    "        self.buffer[:] = self.buffer[count:]\n",
    "        return result\n",
    "\n",
    "    def flush(self):\n",
    "        assert(not any(self.buffer))\n",
    "        self.buffer[:] = []\n",
    "\n",
    "    def _load_byte(self):\n",
    "        value = ord(self.file.read(1))\n",
    "        self.buffer += pad_bits(to_binary_list(value), 8)\n",
    "        self.bytes_read += 1\n",
    "\n",
    "    def close(self): \n",
    "        self.file.close()"
   ]
  },
  {
   "cell_type": "markdown",
   "metadata": {},
   "source": [
    "Uma vez que a API de entrada/saída do arquivo permite salvar apenas bytes inteiros, foi criada uma classe 'wrapper' que armazenará os bits gravados em um fluxo na memória.\n",
    "\n",
    "Foram criados meios para escrever um único bit, bem como uma sequência de bits.\n",
    "\n",
    "Cada comando de gravação (de 1 ou mais bits) adicionará primeiro os bits ao buffer. Uma vez que o buffer contém mais de 8 bits, grupos de 8 bits são removidos da frente, convertidos em um inteiro no intervalo [0-255] e salvos no arquivo de saída. Isso é feito até que o buffer contenha menos de 8 bits.\n",
    "\n",
    "Finalmente, foi fornecida uma maneira de \"liberar\" o fluxo - quando o buffer não está vazio, porém não contém bits suficientes para fazer um byte inteiro, adicione zeros à posição menos significativa até que haja 8 bits e, em seguida, escreva o byte. Foi necessário isto quando estamos fechando o fluxo de bits (e há alguns outros benefícios que veremos mais tarde)."
   ]
  },
  {
   "cell_type": "code",
   "execution_count": 25,
   "metadata": {},
   "outputs": [],
   "source": [
    "# Classe responsavel pelo armazenamento e operacoes na estrutura de bits que\n",
    "# sera utilizada na aplicacao para o arquivo de saida\n",
    "\n",
    "class OutputBitStream:\n",
    "    def __init__(self, file_name): \n",
    "        self.file_name = file_name\n",
    "        self.file = open(self.file_name, 'wb') \n",
    "        self.bytes_written = 0\n",
    "        self.buffer = []\n",
    "\n",
    "    def write_bit(self, value):\n",
    "        self.write_bits([value])\n",
    "\n",
    "    def write_bits(self, values):\n",
    "        self.buffer += values\n",
    "        while len(self.buffer) >= 8:\n",
    "            self._save_byte()        \n",
    "\n",
    "    def flush(self):\n",
    "        if len(self.buffer) > 0: # Add trailing zeros to complete a byte and write it\n",
    "            self.buffer += [0] * (8 - len(self.buffer))\n",
    "            self._save_byte()\n",
    "        assert(len(self.buffer) == 0)\n",
    "\n",
    "    def _save_byte(self):\n",
    "        bits = self.buffer[:8]\n",
    "        self.buffer[:] = self.buffer[8:]\n",
    "\n",
    "        byte_value = from_binary_list(bits)\n",
    "        self.file.write(bytes([byte_value]))\n",
    "        self.bytes_written += 1\n",
    "\n",
    "    def close(self): \n",
    "        self.flush()\n",
    "        self.file.close()"
   ]
  },
  {
   "cell_type": "markdown",
   "metadata": {},
   "source": [
    "Funções auxiliares que serao utilizadas para manipulacoes na arvore, na compressao e na descompressao da imagem."
   ]
  },
  {
   "cell_type": "code",
   "execution_count": 26,
   "metadata": {},
   "outputs": [],
   "source": [
    "# Retorna o tamanho da imagem a partir do arquivo binario\n",
    "\n",
    "def raw_size(width, height):\n",
    "    header_size = 2 * 16  # Altura e largura como 16 valores de bits\n",
    "    pixels_size = 3 * 8 * width * height  # 3 canais, sendo 8 bits por canal\n",
    "    return (header_size + pixels_size) / 8"
   ]
  },
  {
   "cell_type": "code",
   "execution_count": 27,
   "metadata": {},
   "outputs": [],
   "source": [
    "# Analisa duas imagens sao iguais\n",
    "\n",
    "def images_equal(file_name_a, file_name_b):\n",
    "    image_a = Image.open(file_name_a)\n",
    "    image_b = Image.open(file_name_b)\n",
    "\n",
    "    diff = ImageChops.difference(image_a, image_b)\n",
    "\n",
    "    return diff.getbbox() is None"
   ]
  },
  {
   "cell_type": "code",
   "execution_count": 28,
   "metadata": {},
   "outputs": [],
   "source": [
    "# Determina o PSNR entre duas imagens\n",
    "\n",
    "def PSNR(X1, X2, max_pixel=255):\n",
    "    mse = numpy.mean((X1 - X2)**2)\n",
    "    if mse > 0:\n",
    "        return 20 * numpy.log10(max_pixel / mse ** .5)\n",
    "    else:\n",
    "        raise ValueError(\"MSE is 0, images are equal.\")"
   ]
  },
  {
   "cell_type": "code",
   "execution_count": 29,
   "metadata": {},
   "outputs": [],
   "source": [
    "# Promove uma contagem do numero de simbolos de uma determinada imagem\n",
    "\n",
    "def count_symbols(image):\n",
    "    pixels = image.getdata()\n",
    "    values = chain.from_iterable(pixels)\n",
    "    counts = Counter(values).items()\n",
    "    return sorted(counts, key=lambda x: x[::-1])"
   ]
  },
  {
   "cell_type": "code",
   "execution_count": 30,
   "metadata": {},
   "outputs": [],
   "source": [
    "# Promove a contrucao da arvore necessaria para a execucao do Algoritmo de Huffman\n",
    "\n",
    "def build_tree(counts):\n",
    "    nodes = [entry[::-1] for entry in counts]  # Criacao de tupla reversa (simbolo, contador)\n",
    "    while len(nodes) > 1 :\n",
    "        leastTwo = tuple(nodes[0:2])  # Combina os dois\n",
    "        theRest = nodes[2:] # all the others\n",
    "        combFreq = leastTwo[0][0] + leastTwo[1][0]  # Determina a frequencia dos pontos nas ramificacoes\n",
    "        nodes = theRest + [(combFreq, leastTwo)]  # Adiciona um novo ponto de ramificacao ao final\n",
    "        nodes.sort(key=lambda t: t[0])  # Ordena em um determinado lugar\n",
    "    return nodes[0]  # Retorna a unica arvore resultante da lista"
   ]
  },
  {
   "cell_type": "code",
   "execution_count": 31,
   "metadata": {},
   "outputs": [],
   "source": [
    "# Promove uma poda na arvore\n",
    "\n",
    "def trim_tree(tree):\n",
    "    p = tree[1]  # Ignora a frequencia de contagem em [0]\n",
    "    if type(p) is tuple:  # Em cada no, corta para a esquerda, depois para a direita, e depois recombina\n",
    "        return (trim_tree(p[0]), trim_tree(p[1]))\n",
    "    return p  # Retorna o no"
   ]
  },
  {
   "cell_type": "code",
   "execution_count": 32,
   "metadata": {},
   "outputs": [],
   "source": [
    "# Promove uma atribuicao de codigos para as folhas da arvore\n",
    "\n",
    "def assign_codes_impl(codes, node, pat):\n",
    "    if type(node) == tuple:\n",
    "        assign_codes_impl(codes, node[0], pat + [0]) # Ponto de ramificacao - cria o ramo esquerdo\n",
    "        assign_codes_impl(codes, node[1], pat + [1]) # Cria o ramo direito\n",
    "    else:\n",
    "        codes[node] = pat  # Uma folha, cria um codigo"
   ]
  },
  {
   "cell_type": "code",
   "execution_count": 33,
   "metadata": {},
   "outputs": [],
   "source": [
    "# Promove uma atribuicao de codigos para a arvore\n",
    "\n",
    "def assign_codes(tree):\n",
    "    codes = {}\n",
    "    assign_codes_impl(codes, tree, [])\n",
    "    return codes"
   ]
  },
  {
   "cell_type": "code",
   "execution_count": 34,
   "metadata": {},
   "outputs": [],
   "source": [
    "# Converte um inteiro para uma lista de bits\n",
    "\n",
    "def to_binary_list(n):\n",
    "    return [n] if (n <= 1) else to_binary_list(n >> 1) + [n & 1]"
   ]
  },
  {
   "cell_type": "code",
   "execution_count": 35,
   "metadata": {},
   "outputs": [],
   "source": [
    "# Converte uma lista de bits para um numero inteiro\n",
    "\n",
    "def from_binary_list(bits):\n",
    "    result = 0\n",
    "    for bit in bits:\n",
    "        result = (result << 1) | bit\n",
    "    return result"
   ]
  },
  {
   "cell_type": "code",
   "execution_count": 36,
   "metadata": {},
   "outputs": [],
   "source": [
    "# Cria uma lista de prefixos de bits com zeros suficientes para atingir n digitos\n",
    "\n",
    "def pad_bits(bits, n):\n",
    "    assert(n >= len(bits))\n",
    "    return ([0] * (n - len(bits)) + bits)"
   ]
  },
  {
   "cell_type": "code",
   "execution_count": 37,
   "metadata": {},
   "outputs": [],
   "source": [
    "# Promove uma compressao da imagem original\n",
    "\n",
    "def compressed_size(counts, codes):\n",
    "    header_size = 2 * 16  # Altura e largura como valores para 16 bits\n",
    "\n",
    "    tree_size = len(counts) * (1 + 8)  # Folhas: bandeira de 1 bit, simbolo de 8 bits cada\n",
    "    tree_size += len(counts) - 1  # Nós: sinalizador de 1 bit cada\n",
    "    if tree_size % 8 > 0:  # Padding para o próximo byte completo\n",
    "        tree_size += 8 - (tree_size % 8)\n",
    "\n",
    "    # Soma para cada símbolo de contagem * comprimento do código\n",
    "    pixels_size = sum([count * len(codes[symbol]) for symbol, count in counts])\n",
    "    if pixels_size % 8 > 0:  # Padding para o próximo byte completo\n",
    "        pixels_size += 8 - (pixels_size % 8)\n",
    "\n",
    "    return (header_size + tree_size + pixels_size) / 8"
   ]
  },
  {
   "cell_type": "code",
   "execution_count": 38,
   "metadata": {},
   "outputs": [],
   "source": [
    "# Criacao do cabecalho para a codificacao da imagem original\n",
    "\n",
    "def encode_header(image, bitstream):\n",
    "    height_bits = pad_bits(to_binary_list(image.height), 16)\n",
    "    bitstream.write_bits(height_bits)    \n",
    "    width_bits = pad_bits(to_binary_list(image.width), 16)\n",
    "    bitstream.write_bits(width_bits)"
   ]
  },
  {
   "cell_type": "code",
   "execution_count": 39,
   "metadata": {},
   "outputs": [],
   "source": [
    "# Promove a codigicacao de Huffman por meio da arvore criada\n",
    "\n",
    "def encode_tree(tree, bitstream):\n",
    "    if type(tree) == tuple:  # Escreve 0 e codifica os filhos\n",
    "        bitstream.write_bit(0)\n",
    "        encode_tree(tree[0], bitstream)\n",
    "        encode_tree(tree[1], bitstream)\n",
    "    else:  # Folha - escreve 1, seguido pelo símbolo de 8 bits\n",
    "        bitstream.write_bit(1)\n",
    "        symbol_bits = pad_bits(to_binary_list(tree), 8)\n",
    "        bitstream.write_bits(symbol_bits)"
   ]
  },
  {
   "cell_type": "code",
   "execution_count": 40,
   "metadata": {},
   "outputs": [],
   "source": [
    "# Promove a codificacao de cada um dos pixels da imagem\n",
    "\n",
    "def encode_pixels(image, codes, bitstream):\n",
    "    for pixel in image.getdata():\n",
    "        for value in pixel:\n",
    "            bitstream.write_bits(codes[value])"
   ]
  },
  {
   "cell_type": "markdown",
   "metadata": {},
   "source": [
    "A definição do formato do fluxo de bits compactado - existem três blocos de informações essenciais que são necessários para decodificar a imagem:\n",
    "\n",
    "* A forma da imagem (altura e largura), supondo que seja uma imagem RGB de 3 canais.\n",
    "* Informações necessárias para reconstruir os códigos de Huffman no lado da decodificação\n",
    "* Dados de pixel codificados por Huffman\n",
    "\n",
    "O formato compactado foi feito da seguinte maneira:\n",
    "\n",
    "* Cabeçalho: altura da imagem (16 bits, sem sinal) / largura da imagem (16 bits, sem sinal).\n",
    "* Tabela Huffman (começando alinhado com byte inteiro): usamos o tópico deste [link](https://stackoverflow.com/questions/759707/efficient-way-of-storing-huffman-tree/759766#759766) como apoio.\n",
    "* Códigos de pixel (começando alinhado com byte inteiro): width * height * 3 Códigos Huffman em sequência"
   ]
  },
  {
   "cell_type": "code",
   "execution_count": 41,
   "metadata": {},
   "outputs": [],
   "source": [
    "# Promove a compressao de uma determinada imagem por meio da codificacao de Huffman\n",
    "\n",
    "def compress_image(in_file_name, out_file_name):\n",
    "    print('Comprimindo \"%s\" -> \"%s\"' % (in_file_name, out_file_name))\n",
    "    image = Image.open(in_file_name)\n",
    "    print('Dimensoes da imagem: (altura=%d, largura=%d)' % (image.height, image.width))\n",
    "    size_raw = raw_size(image.height, image.width)\n",
    "    print('Tamanho da imagem RAW: %d bytes' % size_raw)\n",
    "    counts = count_symbols(image)\n",
    "    print('Contadores: %s' % counts)\n",
    "    tree = build_tree(counts)\n",
    "    print('Arvore: %s' % str(tree))\n",
    "    trimmed_tree = trim_tree(tree)\n",
    "    print('Arvore podada: %s' % str(trimmed_tree))\n",
    "    codes = assign_codes(trimmed_tree)\n",
    "    print('Codigos: %s' % codes)\n",
    "\n",
    "    size_estimate = compressed_size(counts, codes)\n",
    "    print('Tamanho estimado: %d bytes' % size_estimate)\n",
    "\n",
    "    print('Escrevendo...')\n",
    "    stream = OutputBitStream(out_file_name)\n",
    "    print('* Offset do cabecalho: %d' % stream.bytes_written)\n",
    "    encode_header(image, stream)\n",
    "    stream.flush()  # O próximo bloco deve estar alinhado por byte\n",
    "    print('* Offset da arvore: %d' % stream.bytes_written)\n",
    "    encode_tree(trimmed_tree, stream)\n",
    "    stream.flush()  # O próximo bloco deve estar alinhado por byte\n",
    "    print('* Offset dos pixels: %d' % stream.bytes_written)\n",
    "    encode_pixels(image, codes, stream)\n",
    "    stream.close()\n",
    "\n",
    "    size_real = stream.bytes_written\n",
    "    print('Escritos %d bytes.' % size_real)\n",
    "\n",
    "    print('Estaimativa de %scorrect.' % ('' if size_estimate == size_real else 'in'))\n",
    "    print('Taxa de compressao: %0.2f' % (float(size_raw) / size_real))"
   ]
  },
  {
   "cell_type": "code",
   "execution_count": 42,
   "metadata": {},
   "outputs": [],
   "source": [
    "# Promove a decodificacao do arquivo comprimido de uma imagem\n",
    "\n",
    "def decode_header(bitstream):\n",
    "    height = from_binary_list(bitstream.read_bits(16))\n",
    "    width = from_binary_list(bitstream.read_bits(16))\n",
    "    return (height, width)"
   ]
  },
  {
   "cell_type": "code",
   "execution_count": 43,
   "metadata": {},
   "outputs": [],
   "source": [
    "# Promve a decodificacao da arvore gerada a partir do arquivo codificado\n",
    "\n",
    "def decode_tree(bitstream):\n",
    "    flag = bitstream.read_bits(1)[0]\n",
    "    if flag == 1:  # Folha, símbolo de leitura e retorno\n",
    "        return from_binary_list(bitstream.read_bits(8))\n",
    "    left = decode_tree(bitstream)\n",
    "    right = decode_tree(bitstream)\n",
    "    return (left, right)"
   ]
  },
  {
   "cell_type": "code",
   "execution_count": 44,
   "metadata": {},
   "outputs": [],
   "source": [
    "# Promove a decodificacao de cada um dos valores encontrados\n",
    "\n",
    "def decode_value(tree, bitstream):\n",
    "    bit = bitstream.read_bits(1)[0]\n",
    "    node = tree[bit]\n",
    "    if type(node) == tuple:\n",
    "        return decode_value(node, bitstream)\n",
    "    return node"
   ]
  },
  {
   "cell_type": "code",
   "execution_count": 45,
   "metadata": {},
   "outputs": [],
   "source": [
    "# Promove a decodificacao de cada um dos pixels presentes\n",
    "\n",
    "def decode_pixels(height, width, tree, bitstream):\n",
    "    pixels = bytearray()\n",
    "    for i in range(height * width * 3):\n",
    "        pixels.append(decode_value(tree, bitstream))\n",
    "    return Image.frombytes('RGB', (width, height), bytes(pixels))"
   ]
  },
  {
   "cell_type": "code",
   "execution_count": 51,
   "metadata": {},
   "outputs": [],
   "source": [
    "# Promove a descompressao de uma determinada imagem codificada por Huffman e comprimida\n",
    "\n",
    "def decompress_image(in_file_name, out_file_name):\n",
    "    print('Descomprimindo \"%s\" -> \"%s\"' % (in_file_name, out_file_name))\n",
    "\n",
    "    print('Lendo...')\n",
    "    stream = InputBitStream(in_file_name)\n",
    "    print('* Offset do cabecalho: %d' % stream.bytes_read)\n",
    "    height, width = decode_header(stream)\n",
    "    stream.flush()  # O próximo bloco deve estar alinhado por byte\n",
    "    print('* Offset da arvore: %d' % stream.bytes_read)    \n",
    "    trimmed_tree = decode_tree(stream)\n",
    "    stream.flush()  # O próximo bloco deve estar alinhado por byte\n",
    "    print('* Offset do pixel: %d' % stream.bytes_read)\n",
    "    image = decode_pixels(height, width, trimmed_tree, stream)\n",
    "    stream.close()\n",
    "    print('Le %d bytes.' % stream.bytes_read)\n",
    "\n",
    "    print('Tamanho da imagem: (altura=%d, largura=%d)' % (height, width))\n",
    "    print('Arvore podada: %s' % str(trimmed_tree))\n",
    "    image.save(out_file_name)"
   ]
  },
  {
   "cell_type": "markdown",
   "metadata": {},
   "source": [
    "#### Escreva o nome do do arquivo da imagem que você deseja utilizar como entrada aqui:"
   ]
  },
  {
   "cell_type": "code",
   "execution_count": 55,
   "metadata": {},
   "outputs": [],
   "source": [
    "FILENAME = \"tiger.bmp\""
   ]
  },
  {
   "cell_type": "markdown",
   "metadata": {},
   "source": [
    "Compressão da imagem."
   ]
  },
  {
   "cell_type": "code",
   "execution_count": 56,
   "metadata": {
    "tags": []
   },
   "outputs": [
    {
     "name": "stdout",
     "output_type": "stream",
     "text": [
      "Comprimindo \"tiger.bmp\" -> \"code.bin\"\n",
      "Dimensoes da imagem: (altura=354, largura=630)\n",
      "Tamanho da imagem RAW: 669064 bytes\n",
      "Contadores: [(246, 243), (242, 254), (243, 256), (240, 257), (241, 272), (245, 285), (244, 290), (237, 294), (235, 295), (238, 300), (239, 301), (236, 305), (247, 306), (233, 307), (234, 313), (248, 316), (230, 329), (232, 340), (225, 351), (249, 355), (231, 360), (227, 363), (229, 363), (226, 364), (255, 367), (228, 373), (250, 381), (223, 391), (215, 405), (219, 406), (224, 406), (222, 407), (218, 415), (220, 427), (221, 429), (214, 434), (251, 436), (213, 452), (217, 460), (208, 464), (216, 467), (253, 468), (206, 481), (211, 481), (210, 484), (254, 490), (209, 491), (212, 494), (252, 501), (207, 503), (204, 512), (205, 518), (200, 530), (198, 534), (201, 554), (194, 559), (202, 561), (196, 563), (203, 572), (197, 574), (191, 580), (192, 584), (195, 587), (193, 596), (190, 597), (185, 609), (199, 622), (189, 628), (188, 631), (187, 633), (184, 650), (186, 655), (181, 684), (183, 697), (179, 700), (180, 706), (172, 707), (178, 714), (182, 720), (176, 727), (177, 745), (175, 766), (174, 775), (171, 789), (173, 798), (169, 805), (168, 814), (170, 821), (165, 861), (164, 875), (167, 890), (166, 925), (161, 930), (162, 938), (163, 983), (160, 993), (156, 1000), (153, 1008), (159, 1012), (155, 1029), (158, 1036), (154, 1048), (151, 1051), (157, 1059), (149, 1078), (152, 1094), (147, 1099), (145, 1102), (148, 1118), (150, 1145), (146, 1153), (142, 1168), (139, 1183), (141, 1189), (143, 1205), (144, 1207), (140, 1261), (131, 1271), (135, 1273), (134, 1277), (138, 1295), (136, 1301), (133, 1317), (128, 1329), (130, 1332), (137, 1332), (132, 1340), (129, 1362), (124, 1383), (125, 1409), (126, 1414), (127, 1423), (123, 1452), (122, 1471), (120, 1490), (121, 1493), (117, 1545), (118, 1573), (119, 1583), (114, 1614), (115, 1626), (116, 1638), (113, 1644), (111, 1705), (112, 1737), (110, 1794), (109, 1805), (108, 1819), (107, 1861), (105, 1953), (106, 1996), (104, 2011), (103, 2061), (102, 2075), (101, 2142), (100, 2230), (99, 2249), (97, 2308), (98, 2313), (96, 2397), (95, 2490), (93, 2575), (94, 2577), (92, 2751), (91, 2777), (90, 2836), (89, 2992), (88, 3117), (87, 3246), (86, 3345), (85, 3358), (84, 3466), (17, 3552), (19, 3557), (83, 3601), (20, 3633), (24, 3661), (22, 3670), (21, 3672), (18, 3684), (23, 3692), (25, 3729), (81, 3751), (82, 3751), (15, 3839), (16, 3863), (26, 3927), (27, 3966), (80, 3970), (28, 3999), (79, 4008), (14, 4093), (77, 4121), (30, 4162), (29, 4202), (78, 4228), (31, 4273), (13, 4328), (32, 4418), (76, 4447), (34, 4480), (33, 4481), (75, 4573), (74, 4595), (35, 4731), (12, 4799), (36, 4851), (73, 4862), (37, 4930), (71, 4967), (72, 5041), (38, 5131), (39, 5231), (70, 5254), (11, 5257), (69, 5306), (40, 5407), (68, 5416), (41, 5421), (67, 5517), (66, 5556), (42, 5586), (43, 5633), (65, 5727), (64, 5748), (44, 5917), (63, 5937), (62, 5987), (45, 5990), (10, 6156), (61, 6184), (46, 6207), (47, 6266), (49, 6343), (60, 6513), (48, 6522), (59, 6525), (58, 6565), (57, 6575), (53, 6659), (50, 6672), (52, 6718), (54, 6745), (56, 6771), (51, 6773), (55, 6801), (9, 7300), (8, 8741), (0, 9984), (1, 10135), (7, 10657), (6, 12512), (2, 12599), (5, 13773), (3, 14179), (4, 14495)]\n",
      "Arvore: (669060, ((275073, ((124597, ((59492, ((29288, ((14594, ((7294, ((3633, 20), (3661, 24))), (7300, 9))), (14694, ((7338, ((3668, ((1819, 108), (1849, ((924, ((460, 217), (464, 208))), (925, 166))))), (3670, 22))), (7356, ((3672, 21), (3684, 18))))))), (30204, ((14898, ((7418, ((3692, 23), (3726, ((1861, 107), (1865, ((930, 161), (935, ((467, 216), (468, 253))))))))), (7480, ((3729, 25), (3751, 81))))), (15306, ((7590, ((3751, 82), (3839, 15))), (7716, ((3853, ((1900, ((938, 162), (962, ((481, 206), (481, 211))))), (1953, 105))), (3863, 16))))))))), (65105, ((31830, ((15798, ((7862, ((3927, 26), (3935, ((1957, ((974, ((484, 210), (490, 254))), (983, 163))), (1978, ((985, ((491, 209), (494, 212))), (993, 160))))))), (7936, ((3966, 27), (3970, 80))))), (16032, ((7993, ((3994, ((1996, 106), (1998, ((998, ((497, ((243, 246), (254, 242))), (501, 252))), (1000, 156))))), (3999, 28))), (8039, ((4008, 79), (4031, ((2011, 104), (2020, ((1008, 153), (1012, 159))))))))))), (33275, ((16461, ((8198, ((4093, 14), (4105, ((2044, ((1015, ((503, 207), (512, 204))), (1029, 155))), (2061, 103))))), (8263, ((4121, 77), (4142, ((2067, ((1031, ((513, ((256, 243), (257, 240))), (518, 205))), (1036, 158))), (2075, 102))))))), (16814, ((8364, ((4162, 30), (4202, 29))), (8450, ((4222, ((2099, ((1048, 154), (1051, 151))), (2123, ((1059, 157), (1064, ((530, 200), (534, 198))))))), (4228, 78))))))))))), (150476, ((71405, ((34951, ((17328, ((8587, ((4273, 31), (4314, ((2142, 101), (2172, ((1078, 149), (1094, 152))))))), (8741, 8))), (17623, ((8746, ((4328, 13), (4418, 32))), (8877, ((4430, ((2201, ((1099, 147), (1102, 145))), (2229, ((1111, ((554, 201), (557, ((272, 241), (285, 245))))), (1118, 148))))), (4447, 76))))))), (36454, ((17993, ((8959, ((4479, ((2230, 100), (2249, 99))), (4480, 34))), (9034, ((4481, 33), (4553, ((2255, ((1120, ((559, 194), (561, 202))), (1135, ((563, 196), (572, 203))))), (2298, ((1145, 150), (1153, 146))))))))), (18461, ((9168, ((4573, 75), (4595, 74))), (9293, ((4621, ((2308, 97), (2313, 98))), (4672, ((2322, ((1154, ((574, 197), (580, 191))), (1168, 142))), (2350, ((1168, ((584, 192), (584, ((290, 244), (294, 237))))), (1182, ((587, 195), (595, ((295, 235), (300, 238))))))))))))))))), (79071, ((38729, ((19119, ((9500, ((4731, 35), (4769, ((2372, ((1183, 139), (1189, 141))), (2397, 96))))), (9619, ((4799, 12), (4820, ((2398, ((1193, ((596, 193), (597, 190))), (1205, 143))), (2422, ((1207, 144), (1215, ((606, ((301, 239), (305, 236))), (609, 185))))))))))), (19610, ((9713, ((4851, 36), (4862, 73))), (9897, ((4930, 37), (4967, 71))))))), (40342, ((20007, ((9984, 0), (10023, ((4982, ((2490, 95), (2492, ((1235, ((613, ((306, 247), (307, 233))), (622, 199))), (1257, ((628, 189), (629, ((313, 234), (316, 248))))))))), (5041, 72))))), (20335, ((10135, 1), (10200, ((5069, ((2525, ((1261, 140), (1264, ((631, 188), (633, 187))))), (2544, ((1271, 131), (1273, 135))))), (5131, 38))))))))))))), (393987, ((179939, ((85628, ((42035, ((20815, ((10330, ((5147, ((2572, ((1277, 134), (1295, 138))), (2575, 93))), (5183, ((2577, 94), (2606, ((1301, 136), (1305, ((650, 184), (655, 186))))))))), (10485, ((5231, 39), (5254, 70))))), (21220, ((10563, ((5257, 11), (5306, 69))), (10657, 7))))), (43593, ((21554, ((10717, ((5310, ((2646, ((1317, 133), (1329, 128))), (2664, ((1332, 130), (1332, 137))))), (5407, 40))), (10837, ((5416, 68), (5421, 41))))), (22039, ((10955, ((5438, ((2693, ((1340, 132), (1353, ((669, ((329, 230), (340, 232))), (684, 181))))), (2745, ((1362, 129), (1383, 124))))), (5517, 67))), (11084, ((5528, ((2751, 92), (2777, 91))), (5556, 66))))))))), (94311, ((45743, ((22531, ((11218, ((5586, 42), (5632, ((2806, ((1397, ((697, 183), (700, 179))), (1409, 125))), (2826, ((1412, ((706, 180), (706, ((351, 225), (355, 249))))), (1414, 126))))))), (11313, ((5633, 43), (5680, ((2836, 90), (2844, ((1421, ((707, 172), (714, 178))), (1423, 127))))))))), (23212, ((11475, ((5727, 65), (5748, 64))), (11737, ((5820, ((2895, ((1443, ((720, 182), (723, ((360, 231), (363, 227))))), (1452, 123))), (2925, ((1454, ((727, 176), (727, ((363, 229), (364, 226))))), (1471, 122))))), (5917, 44))))))), (48568, ((23881, ((11904, ((5937, 63), (5967, ((2975, ((1485, ((740, ((367, 255), (373, 228))), (745, 177))), (1490, 120))), (2992, 89))))), (11977, ((5987, 62), (5990, 45))))), (24687, ((12296, ((6140, ((3031, ((1493, 121), (1538, ((766, 175), (772, ((381, 250), (391, 223))))))), (3109, ((1545, 117), (1564, ((775, 174), (789, 171))))))), (6156, 10))), (12391, ((6184, 61), (6207, 46))))))))))), (214048, ((103010, ((50456, ((25051, ((12512, 6), (12539, ((6266, 47), (6273, ((3117, 88), (3156, ((1573, 118), (1583, 119))))))))), (25405, ((12599, 2), (12806, ((6343, 49), (6463, ((3217, ((1603, ((798, 173), (805, 169))), (1614, 114))), (3246, 87))))))))), (52554, ((26083, ((13035, ((6513, 60), (6522, 48))), (13048, ((6523, ((3250, ((1624, ((811, ((405, 215), (406, 219))), (813, ((406, 224), (407, 222))))), (1626, 115))), (3273, ((1635, ((814, 168), (821, 170))), (1638, 116))))), (6525, 59))))), (26471, ((13140, ((6565, 58), (6575, 57))), (13331, ((6659, 53), (6672, 50))))))))), (111038, ((54272, ((26926, ((13410, ((6692, ((3345, 86), (3347, ((1644, 113), (1703, ((842, ((415, 218), (427, 220))), (861, 165))))))), (6718, 52))), (13516, ((6745, 54), (6771, 56))))), (27346, ((13573, ((6773, 51), (6800, ((3358, 85), (3442, ((1705, 111), (1737, 112))))))), (13773, 5))))), (56766, ((27962, ((13783, ((6801, 55), (6982, ((3466, 84), (3516, ((1738, ((863, ((429, 221), (434, 214))), (875, 164))), (1778, ((888, ((436, 251), (452, 213))), (890, 167))))))))), (14179, 3))), (28804, ((14309, ((7109, ((3552, 17), (3557, 19))), (7200, ((3599, ((1794, 110), (1805, 109))), (3601, 83))))), (14495, 4)))))))))))))\n",
      "Arvore podada: (((((((20, 24), 9), (((108, ((217, 208), 166)), 22), (21, 18))), (((23, (107, (161, (216, 253)))), (25, 81)), ((82, 15), (((162, (206, 211)), 105), 16)))), ((((26, (((210, 254), 163), ((209, 212), 160))), (27, 80)), (((106, (((246, 242), 252), 156)), 28), (79, (104, (153, 159))))), (((14, (((207, 204), 155), 103)), (77, ((((243, 240), 205), 158), 102))), ((30, 29), (((154, 151), (157, (200, 198))), 78))))), (((((31, (101, (149, 152))), 8), ((13, 32), (((147, 145), ((201, (241, 245)), 148)), 76))), ((((100, 99), 34), (33, (((194, 202), (196, 203)), (150, 146)))), ((75, 74), ((97, 98), (((197, 191), 142), ((192, (244, 237)), (195, (235, 238)))))))), ((((35, ((139, 141), 96)), (12, (((193, 190), 143), (144, ((239, 236), 185))))), ((36, 73), (37, 71))), ((0, ((95, (((247, 233), 199), (189, (234, 248)))), 72)), (1, (((140, (188, 187)), (131, 135)), 38)))))), ((((((((134, 138), 93), (94, (136, (184, 186)))), (39, 70)), ((11, 69), 7)), (((((133, 128), (130, 137)), 40), (68, 41)), ((((132, ((230, 232), 181)), (129, 124)), 67), ((92, 91), 66)))), ((((42, (((183, 179), 125), ((180, (225, 249)), 126))), (43, (90, ((172, 178), 127)))), ((65, 64), ((((182, (231, 227)), 123), ((176, (229, 226)), 122)), 44))), (((63, ((((255, 228), 177), 120), 89)), (62, 45)), ((((121, (175, (250, 223))), (117, (174, 171))), 10), (61, 46))))), ((((6, (47, (88, (118, 119)))), (2, (49, (((173, 169), 114), 87)))), (((60, 48), (((((215, 219), (224, 222)), 115), ((168, 170), 116)), 59)), ((58, 57), (53, 50)))), (((((86, (113, ((218, 220), 165))), 52), (54, 56)), ((51, (85, (111, 112))), 5)), (((55, (84, (((221, 214), 164), ((251, 213), 167)))), 3), (((17, 19), ((110, 109), 83)), 4))))))\n",
      "Codigos: {20: [0, 0, 0, 0, 0, 0, 0], 24: [0, 0, 0, 0, 0, 0, 1], 9: [0, 0, 0, 0, 0, 1], 108: [0, 0, 0, 0, 1, 0, 0, 0], 217: [0, 0, 0, 0, 1, 0, 0, 1, 0, 0], 208: [0, 0, 0, 0, 1, 0, 0, 1, 0, 1], 166: [0, 0, 0, 0, 1, 0, 0, 1, 1], 22: [0, 0, 0, 0, 1, 0, 1], 21: [0, 0, 0, 0, 1, 1, 0], 18: [0, 0, 0, 0, 1, 1, 1], 23: [0, 0, 0, 1, 0, 0, 0], 107: [0, 0, 0, 1, 0, 0, 1, 0], 161: [0, 0, 0, 1, 0, 0, 1, 1, 0], 216: [0, 0, 0, 1, 0, 0, 1, 1, 1, 0], 253: [0, 0, 0, 1, 0, 0, 1, 1, 1, 1], 25: [0, 0, 0, 1, 0, 1, 0], 81: [0, 0, 0, 1, 0, 1, 1], 82: [0, 0, 0, 1, 1, 0, 0], 15: [0, 0, 0, 1, 1, 0, 1], 162: [0, 0, 0, 1, 1, 1, 0, 0, 0], 206: [0, 0, 0, 1, 1, 1, 0, 0, 1, 0], 211: [0, 0, 0, 1, 1, 1, 0, 0, 1, 1], 105: [0, 0, 0, 1, 1, 1, 0, 1], 16: [0, 0, 0, 1, 1, 1, 1], 26: [0, 0, 1, 0, 0, 0, 0], 210: [0, 0, 1, 0, 0, 0, 1, 0, 0, 0], 254: [0, 0, 1, 0, 0, 0, 1, 0, 0, 1], 163: [0, 0, 1, 0, 0, 0, 1, 0, 1], 209: [0, 0, 1, 0, 0, 0, 1, 1, 0, 0], 212: [0, 0, 1, 0, 0, 0, 1, 1, 0, 1], 160: [0, 0, 1, 0, 0, 0, 1, 1, 1], 27: [0, 0, 1, 0, 0, 1, 0], 80: [0, 0, 1, 0, 0, 1, 1], 106: [0, 0, 1, 0, 1, 0, 0, 0], 246: [0, 0, 1, 0, 1, 0, 0, 1, 0, 0, 0], 242: [0, 0, 1, 0, 1, 0, 0, 1, 0, 0, 1], 252: [0, 0, 1, 0, 1, 0, 0, 1, 0, 1], 156: [0, 0, 1, 0, 1, 0, 0, 1, 1], 28: [0, 0, 1, 0, 1, 0, 1], 79: [0, 0, 1, 0, 1, 1, 0], 104: [0, 0, 1, 0, 1, 1, 1, 0], 153: [0, 0, 1, 0, 1, 1, 1, 1, 0], 159: [0, 0, 1, 0, 1, 1, 1, 1, 1], 14: [0, 0, 1, 1, 0, 0, 0], 207: [0, 0, 1, 1, 0, 0, 1, 0, 0, 0], 204: [0, 0, 1, 1, 0, 0, 1, 0, 0, 1], 155: [0, 0, 1, 1, 0, 0, 1, 0, 1], 103: [0, 0, 1, 1, 0, 0, 1, 1], 77: [0, 0, 1, 1, 0, 1, 0], 243: [0, 0, 1, 1, 0, 1, 1, 0, 0, 0, 0], 240: [0, 0, 1, 1, 0, 1, 1, 0, 0, 0, 1], 205: [0, 0, 1, 1, 0, 1, 1, 0, 0, 1], 158: [0, 0, 1, 1, 0, 1, 1, 0, 1], 102: [0, 0, 1, 1, 0, 1, 1, 1], 30: [0, 0, 1, 1, 1, 0, 0], 29: [0, 0, 1, 1, 1, 0, 1], 154: [0, 0, 1, 1, 1, 1, 0, 0, 0], 151: [0, 0, 1, 1, 1, 1, 0, 0, 1], 157: [0, 0, 1, 1, 1, 1, 0, 1, 0], 200: [0, 0, 1, 1, 1, 1, 0, 1, 1, 0], 198: [0, 0, 1, 1, 1, 1, 0, 1, 1, 1], 78: [0, 0, 1, 1, 1, 1, 1], 31: [0, 1, 0, 0, 0, 0, 0], 101: [0, 1, 0, 0, 0, 0, 1, 0], 149: [0, 1, 0, 0, 0, 0, 1, 1, 0], 152: [0, 1, 0, 0, 0, 0, 1, 1, 1], 8: [0, 1, 0, 0, 0, 1], 13: [0, 1, 0, 0, 1, 0, 0], 32: [0, 1, 0, 0, 1, 0, 1], 147: [0, 1, 0, 0, 1, 1, 0, 0, 0], 145: [0, 1, 0, 0, 1, 1, 0, 0, 1], 201: [0, 1, 0, 0, 1, 1, 0, 1, 0, 0], 241: [0, 1, 0, 0, 1, 1, 0, 1, 0, 1, 0], 245: [0, 1, 0, 0, 1, 1, 0, 1, 0, 1, 1], 148: [0, 1, 0, 0, 1, 1, 0, 1, 1], 76: [0, 1, 0, 0, 1, 1, 1], 100: [0, 1, 0, 1, 0, 0, 0, 0], 99: [0, 1, 0, 1, 0, 0, 0, 1], 34: [0, 1, 0, 1, 0, 0, 1], 33: [0, 1, 0, 1, 0, 1, 0], 194: [0, 1, 0, 1, 0, 1, 1, 0, 0, 0], 202: [0, 1, 0, 1, 0, 1, 1, 0, 0, 1], 196: [0, 1, 0, 1, 0, 1, 1, 0, 1, 0], 203: [0, 1, 0, 1, 0, 1, 1, 0, 1, 1], 150: [0, 1, 0, 1, 0, 1, 1, 1, 0], 146: [0, 1, 0, 1, 0, 1, 1, 1, 1], 75: [0, 1, 0, 1, 1, 0, 0], 74: [0, 1, 0, 1, 1, 0, 1], 97: [0, 1, 0, 1, 1, 1, 0, 0], 98: [0, 1, 0, 1, 1, 1, 0, 1], 197: [0, 1, 0, 1, 1, 1, 1, 0, 0, 0], 191: [0, 1, 0, 1, 1, 1, 1, 0, 0, 1], 142: [0, 1, 0, 1, 1, 1, 1, 0, 1], 192: [0, 1, 0, 1, 1, 1, 1, 1, 0, 0], 244: [0, 1, 0, 1, 1, 1, 1, 1, 0, 1, 0], 237: [0, 1, 0, 1, 1, 1, 1, 1, 0, 1, 1], 195: [0, 1, 0, 1, 1, 1, 1, 1, 1, 0], 235: [0, 1, 0, 1, 1, 1, 1, 1, 1, 1, 0], 238: [0, 1, 0, 1, 1, 1, 1, 1, 1, 1, 1], 35: [0, 1, 1, 0, 0, 0, 0], 139: [0, 1, 1, 0, 0, 0, 1, 0, 0], 141: [0, 1, 1, 0, 0, 0, 1, 0, 1], 96: [0, 1, 1, 0, 0, 0, 1, 1], 12: [0, 1, 1, 0, 0, 1, 0], 193: [0, 1, 1, 0, 0, 1, 1, 0, 0, 0], 190: [0, 1, 1, 0, 0, 1, 1, 0, 0, 1], 143: [0, 1, 1, 0, 0, 1, 1, 0, 1], 144: [0, 1, 1, 0, 0, 1, 1, 1, 0], 239: [0, 1, 1, 0, 0, 1, 1, 1, 1, 0, 0], 236: [0, 1, 1, 0, 0, 1, 1, 1, 1, 0, 1], 185: [0, 1, 1, 0, 0, 1, 1, 1, 1, 1], 36: [0, 1, 1, 0, 1, 0, 0], 73: [0, 1, 1, 0, 1, 0, 1], 37: [0, 1, 1, 0, 1, 1, 0], 71: [0, 1, 1, 0, 1, 1, 1], 0: [0, 1, 1, 1, 0, 0], 95: [0, 1, 1, 1, 0, 1, 0, 0], 247: [0, 1, 1, 1, 0, 1, 0, 1, 0, 0, 0], 233: [0, 1, 1, 1, 0, 1, 0, 1, 0, 0, 1], 199: [0, 1, 1, 1, 0, 1, 0, 1, 0, 1], 189: [0, 1, 1, 1, 0, 1, 0, 1, 1, 0], 234: [0, 1, 1, 1, 0, 1, 0, 1, 1, 1, 0], 248: [0, 1, 1, 1, 0, 1, 0, 1, 1, 1, 1], 72: [0, 1, 1, 1, 0, 1, 1], 1: [0, 1, 1, 1, 1, 0], 140: [0, 1, 1, 1, 1, 1, 0, 0, 0], 188: [0, 1, 1, 1, 1, 1, 0, 0, 1, 0], 187: [0, 1, 1, 1, 1, 1, 0, 0, 1, 1], 131: [0, 1, 1, 1, 1, 1, 0, 1, 0], 135: [0, 1, 1, 1, 1, 1, 0, 1, 1], 38: [0, 1, 1, 1, 1, 1, 1], 134: [1, 0, 0, 0, 0, 0, 0, 0, 0], 138: [1, 0, 0, 0, 0, 0, 0, 0, 1], 93: [1, 0, 0, 0, 0, 0, 0, 1], 94: [1, 0, 0, 0, 0, 0, 1, 0], 136: [1, 0, 0, 0, 0, 0, 1, 1, 0], 184: [1, 0, 0, 0, 0, 0, 1, 1, 1, 0], 186: [1, 0, 0, 0, 0, 0, 1, 1, 1, 1], 39: [1, 0, 0, 0, 0, 1, 0], 70: [1, 0, 0, 0, 0, 1, 1], 11: [1, 0, 0, 0, 1, 0, 0], 69: [1, 0, 0, 0, 1, 0, 1], 7: [1, 0, 0, 0, 1, 1], 133: [1, 0, 0, 1, 0, 0, 0, 0, 0], 128: [1, 0, 0, 1, 0, 0, 0, 0, 1], 130: [1, 0, 0, 1, 0, 0, 0, 1, 0], 137: [1, 0, 0, 1, 0, 0, 0, 1, 1], 40: [1, 0, 0, 1, 0, 0, 1], 68: [1, 0, 0, 1, 0, 1, 0], 41: [1, 0, 0, 1, 0, 1, 1], 132: [1, 0, 0, 1, 1, 0, 0, 0, 0], 230: [1, 0, 0, 1, 1, 0, 0, 0, 1, 0, 0], 232: [1, 0, 0, 1, 1, 0, 0, 0, 1, 0, 1], 181: [1, 0, 0, 1, 1, 0, 0, 0, 1, 1], 129: [1, 0, 0, 1, 1, 0, 0, 1, 0], 124: [1, 0, 0, 1, 1, 0, 0, 1, 1], 67: [1, 0, 0, 1, 1, 0, 1], 92: [1, 0, 0, 1, 1, 1, 0, 0], 91: [1, 0, 0, 1, 1, 1, 0, 1], 66: [1, 0, 0, 1, 1, 1, 1], 42: [1, 0, 1, 0, 0, 0, 0], 183: [1, 0, 1, 0, 0, 0, 1, 0, 0, 0], 179: [1, 0, 1, 0, 0, 0, 1, 0, 0, 1], 125: [1, 0, 1, 0, 0, 0, 1, 0, 1], 180: [1, 0, 1, 0, 0, 0, 1, 1, 0, 0], 225: [1, 0, 1, 0, 0, 0, 1, 1, 0, 1, 0], 249: [1, 0, 1, 0, 0, 0, 1, 1, 0, 1, 1], 126: [1, 0, 1, 0, 0, 0, 1, 1, 1], 43: [1, 0, 1, 0, 0, 1, 0], 90: [1, 0, 1, 0, 0, 1, 1, 0], 172: [1, 0, 1, 0, 0, 1, 1, 1, 0, 0], 178: [1, 0, 1, 0, 0, 1, 1, 1, 0, 1], 127: [1, 0, 1, 0, 0, 1, 1, 1, 1], 65: [1, 0, 1, 0, 1, 0, 0], 64: [1, 0, 1, 0, 1, 0, 1], 182: [1, 0, 1, 0, 1, 1, 0, 0, 0, 0], 231: [1, 0, 1, 0, 1, 1, 0, 0, 0, 1, 0], 227: [1, 0, 1, 0, 1, 1, 0, 0, 0, 1, 1], 123: [1, 0, 1, 0, 1, 1, 0, 0, 1], 176: [1, 0, 1, 0, 1, 1, 0, 1, 0, 0], 229: [1, 0, 1, 0, 1, 1, 0, 1, 0, 1, 0], 226: [1, 0, 1, 0, 1, 1, 0, 1, 0, 1, 1], 122: [1, 0, 1, 0, 1, 1, 0, 1, 1], 44: [1, 0, 1, 0, 1, 1, 1], 63: [1, 0, 1, 1, 0, 0, 0], 255: [1, 0, 1, 1, 0, 0, 1, 0, 0, 0, 0], 228: [1, 0, 1, 1, 0, 0, 1, 0, 0, 0, 1], 177: [1, 0, 1, 1, 0, 0, 1, 0, 0, 1], 120: [1, 0, 1, 1, 0, 0, 1, 0, 1], 89: [1, 0, 1, 1, 0, 0, 1, 1], 62: [1, 0, 1, 1, 0, 1, 0], 45: [1, 0, 1, 1, 0, 1, 1], 121: [1, 0, 1, 1, 1, 0, 0, 0, 0], 175: [1, 0, 1, 1, 1, 0, 0, 0, 1, 0], 250: [1, 0, 1, 1, 1, 0, 0, 0, 1, 1, 0], 223: [1, 0, 1, 1, 1, 0, 0, 0, 1, 1, 1], 117: [1, 0, 1, 1, 1, 0, 0, 1, 0], 174: [1, 0, 1, 1, 1, 0, 0, 1, 1, 0], 171: [1, 0, 1, 1, 1, 0, 0, 1, 1, 1], 10: [1, 0, 1, 1, 1, 0, 1], 61: [1, 0, 1, 1, 1, 1, 0], 46: [1, 0, 1, 1, 1, 1, 1], 6: [1, 1, 0, 0, 0, 0], 47: [1, 1, 0, 0, 0, 1, 0], 88: [1, 1, 0, 0, 0, 1, 1, 0], 118: [1, 1, 0, 0, 0, 1, 1, 1, 0], 119: [1, 1, 0, 0, 0, 1, 1, 1, 1], 2: [1, 1, 0, 0, 1, 0], 49: [1, 1, 0, 0, 1, 1, 0], 173: [1, 1, 0, 0, 1, 1, 1, 0, 0, 0], 169: [1, 1, 0, 0, 1, 1, 1, 0, 0, 1], 114: [1, 1, 0, 0, 1, 1, 1, 0, 1], 87: [1, 1, 0, 0, 1, 1, 1, 1], 60: [1, 1, 0, 1, 0, 0, 0], 48: [1, 1, 0, 1, 0, 0, 1], 215: [1, 1, 0, 1, 0, 1, 0, 0, 0, 0, 0], 219: [1, 1, 0, 1, 0, 1, 0, 0, 0, 0, 1], 224: [1, 1, 0, 1, 0, 1, 0, 0, 0, 1, 0], 222: [1, 1, 0, 1, 0, 1, 0, 0, 0, 1, 1], 115: [1, 1, 0, 1, 0, 1, 0, 0, 1], 168: [1, 1, 0, 1, 0, 1, 0, 1, 0, 0], 170: [1, 1, 0, 1, 0, 1, 0, 1, 0, 1], 116: [1, 1, 0, 1, 0, 1, 0, 1, 1], 59: [1, 1, 0, 1, 0, 1, 1], 58: [1, 1, 0, 1, 1, 0, 0], 57: [1, 1, 0, 1, 1, 0, 1], 53: [1, 1, 0, 1, 1, 1, 0], 50: [1, 1, 0, 1, 1, 1, 1], 86: [1, 1, 1, 0, 0, 0, 0, 0], 113: [1, 1, 1, 0, 0, 0, 0, 1, 0], 218: [1, 1, 1, 0, 0, 0, 0, 1, 1, 0, 0], 220: [1, 1, 1, 0, 0, 0, 0, 1, 1, 0, 1], 165: [1, 1, 1, 0, 0, 0, 0, 1, 1, 1], 52: [1, 1, 1, 0, 0, 0, 1], 54: [1, 1, 1, 0, 0, 1, 0], 56: [1, 1, 1, 0, 0, 1, 1], 51: [1, 1, 1, 0, 1, 0, 0], 85: [1, 1, 1, 0, 1, 0, 1, 0], 111: [1, 1, 1, 0, 1, 0, 1, 1, 0], 112: [1, 1, 1, 0, 1, 0, 1, 1, 1], 5: [1, 1, 1, 0, 1, 1], 55: [1, 1, 1, 1, 0, 0, 0], 84: [1, 1, 1, 1, 0, 0, 1, 0], 221: [1, 1, 1, 1, 0, 0, 1, 1, 0, 0, 0], 214: [1, 1, 1, 1, 0, 0, 1, 1, 0, 0, 1], 164: [1, 1, 1, 1, 0, 0, 1, 1, 0, 1], 251: [1, 1, 1, 1, 0, 0, 1, 1, 1, 0, 0], 213: [1, 1, 1, 1, 0, 0, 1, 1, 1, 0, 1], 167: [1, 1, 1, 1, 0, 0, 1, 1, 1, 1], 3: [1, 1, 1, 1, 0, 1], 17: [1, 1, 1, 1, 1, 0, 0, 0], 19: [1, 1, 1, 1, 1, 0, 0, 1], 110: [1, 1, 1, 1, 1, 0, 1, 0, 0], 109: [1, 1, 1, 1, 1, 0, 1, 0, 1], 83: [1, 1, 1, 1, 1, 0, 1, 1], 4: [1, 1, 1, 1, 1, 1]}\n",
      "Tamanho estimado: 617757 bytes\n",
      "Escrevendo...\n",
      "* Offset do cabecalho: 0\n",
      "* Offset da arvore: 4\n",
      "* Offset dos pixels: 324\n",
      "Escritos 617757 bytes.\n",
      "Estaimativa de correct.\n",
      "Taxa de compressao: 1.08\n"
     ]
    }
   ],
   "source": [
    "compress_image(FILENAME, \"code.bin\")"
   ]
  },
  {
   "cell_type": "markdown",
   "metadata": {},
   "source": [
    "#### Descompressão da imagem."
   ]
  },
  {
   "cell_type": "code",
   "execution_count": 57,
   "metadata": {
    "tags": []
   },
   "outputs": [
    {
     "name": "stdout",
     "output_type": "stream",
     "text": [
      "Descomprimindo \"code.bin\" -> \"out_image.png\"\n",
      "Lendo...\n",
      "* Offset do cabecalho: 0\n",
      "* Offset da arvore: 4\n",
      "* Offset do pixel: 324\n",
      "Le 617757 bytes.\n",
      "Tamanho da imagem: (altura=354, largura=630)\n",
      "Arvore podada: (((((((20, 24), 9), (((108, ((217, 208), 166)), 22), (21, 18))), (((23, (107, (161, (216, 253)))), (25, 81)), ((82, 15), (((162, (206, 211)), 105), 16)))), ((((26, (((210, 254), 163), ((209, 212), 160))), (27, 80)), (((106, (((246, 242), 252), 156)), 28), (79, (104, (153, 159))))), (((14, (((207, 204), 155), 103)), (77, ((((243, 240), 205), 158), 102))), ((30, 29), (((154, 151), (157, (200, 198))), 78))))), (((((31, (101, (149, 152))), 8), ((13, 32), (((147, 145), ((201, (241, 245)), 148)), 76))), ((((100, 99), 34), (33, (((194, 202), (196, 203)), (150, 146)))), ((75, 74), ((97, 98), (((197, 191), 142), ((192, (244, 237)), (195, (235, 238)))))))), ((((35, ((139, 141), 96)), (12, (((193, 190), 143), (144, ((239, 236), 185))))), ((36, 73), (37, 71))), ((0, ((95, (((247, 233), 199), (189, (234, 248)))), 72)), (1, (((140, (188, 187)), (131, 135)), 38)))))), ((((((((134, 138), 93), (94, (136, (184, 186)))), (39, 70)), ((11, 69), 7)), (((((133, 128), (130, 137)), 40), (68, 41)), ((((132, ((230, 232), 181)), (129, 124)), 67), ((92, 91), 66)))), ((((42, (((183, 179), 125), ((180, (225, 249)), 126))), (43, (90, ((172, 178), 127)))), ((65, 64), ((((182, (231, 227)), 123), ((176, (229, 226)), 122)), 44))), (((63, ((((255, 228), 177), 120), 89)), (62, 45)), ((((121, (175, (250, 223))), (117, (174, 171))), 10), (61, 46))))), ((((6, (47, (88, (118, 119)))), (2, (49, (((173, 169), 114), 87)))), (((60, 48), (((((215, 219), (224, 222)), 115), ((168, 170), 116)), 59)), ((58, 57), (53, 50)))), (((((86, (113, ((218, 220), 165))), 52), (54, 56)), ((51, (85, (111, 112))), 5)), (((55, (84, (((221, 214), 164), ((251, 213), 167)))), 3), (((17, 19), ((110, 109), 83)), 4))))))\n"
     ]
    }
   ],
   "source": [
    "decompress_image(\"code.bin\", \"out_image.png\")"
   ]
  },
  {
   "cell_type": "markdown",
   "metadata": {},
   "source": [
    "Compraração entre a imagem original e a imagem final descomprimida. Como é um método sem perdas, as imagem devem ser o mais iguais possíveis."
   ]
  },
  {
   "cell_type": "code",
   "execution_count": 59,
   "metadata": {},
   "outputs": [
    {
     "ename": "ValueError",
     "evalue": "MSE is 0, images are equal.",
     "output_type": "error",
     "traceback": [
      "\u001b[0;31m---------------------------------------------------------------------------\u001b[0m",
      "\u001b[0;31mValueError\u001b[0m                                Traceback (most recent call last)",
      "\u001b[0;32m<ipython-input-59-7686f58bbd50>\u001b[0m in \u001b[0;36m<module>\u001b[0;34m\u001b[0m\n\u001b[0;32m----> 1\u001b[0;31m \u001b[0mPSNR\u001b[0m\u001b[0;34m(\u001b[0m\u001b[0mnumpy\u001b[0m\u001b[0;34m.\u001b[0m\u001b[0marray\u001b[0m\u001b[0;34m(\u001b[0m\u001b[0mimg1\u001b[0m\u001b[0;34m)\u001b[0m\u001b[0;34m,\u001b[0m \u001b[0mnumpy\u001b[0m\u001b[0;34m.\u001b[0m\u001b[0marray\u001b[0m\u001b[0;34m(\u001b[0m\u001b[0mimg2\u001b[0m\u001b[0;34m)\u001b[0m\u001b[0;34m)\u001b[0m\u001b[0;34m\u001b[0m\u001b[0;34m\u001b[0m\u001b[0m\n\u001b[0m",
      "\u001b[0;32m<ipython-input-28-d843ba63d819>\u001b[0m in \u001b[0;36mPSNR\u001b[0;34m(X1, X2, max_pixel)\u001b[0m\n\u001b[1;32m      6\u001b[0m         \u001b[0;32mreturn\u001b[0m \u001b[0;36m20\u001b[0m \u001b[0;34m*\u001b[0m \u001b[0mnumpy\u001b[0m\u001b[0;34m.\u001b[0m\u001b[0mlog10\u001b[0m\u001b[0;34m(\u001b[0m\u001b[0mmax_pixel\u001b[0m \u001b[0;34m/\u001b[0m \u001b[0mmse\u001b[0m \u001b[0;34m**\u001b[0m \u001b[0;36m.5\u001b[0m\u001b[0;34m)\u001b[0m\u001b[0;34m\u001b[0m\u001b[0;34m\u001b[0m\u001b[0m\n\u001b[1;32m      7\u001b[0m     \u001b[0;32melse\u001b[0m\u001b[0;34m:\u001b[0m\u001b[0;34m\u001b[0m\u001b[0;34m\u001b[0m\u001b[0m\n\u001b[0;32m----> 8\u001b[0;31m         \u001b[0;32mraise\u001b[0m \u001b[0mValueError\u001b[0m\u001b[0;34m(\u001b[0m\u001b[0;34m\"MSE is 0, images are equal.\"\u001b[0m\u001b[0;34m)\u001b[0m\u001b[0;34m\u001b[0m\u001b[0;34m\u001b[0m\u001b[0m\n\u001b[0m",
      "\u001b[0;31mValueError\u001b[0m: MSE is 0, images are equal."
     ]
    }
   ],
   "source": [
    "img1 = Image.open(FILENAME)\n",
    "img2 = Image.open(\"out_image.png\")\n",
    "PSNR(numpy.array(img1), numpy.array(img2))"
   ]
  },
  {
   "cell_type": "code",
   "execution_count": null,
   "metadata": {},
   "outputs": [],
   "source": []
  }
 ],
 "metadata": {
  "kernelspec": {
   "display_name": "Python 3.7.4 64-bit ('base': conda)",
   "language": "python",
   "name": "python37464bitbasecondabb5af891ef1044d7be15a697e9ceaf9c"
  },
  "language_info": {
   "codemirror_mode": {
    "name": "ipython",
    "version": 3
   },
   "file_extension": ".py",
   "mimetype": "text/x-python",
   "name": "python",
   "nbconvert_exporter": "python",
   "pygments_lexer": "ipython3",
   "version": "3.7.7"
  }
 },
 "nbformat": 4,
 "nbformat_minor": 4
}
