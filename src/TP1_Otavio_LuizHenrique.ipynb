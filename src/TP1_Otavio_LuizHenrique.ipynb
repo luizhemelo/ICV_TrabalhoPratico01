{
 "cells": [
  {
   "cell_type": "markdown",
   "metadata": {},
   "source": [
    "# Trabalho Prático 1 - Compressão de imagens\n",
    "## Introdução à Computação Visual - 2020/1\n",
    "#### Integrantes:\n",
    "* Otávio Augusto Silva - 2016006808\n",
    "* Luiz Henrique de Melo Santos - 2017014464"
   ]
  },
  {
   "cell_type": "markdown",
   "metadata": {},
   "source": [
    "Neste Trabalho Prático será feita a implementação de uma aplicação para compressão de imagens sem perdas, por meio do Algoritmo de Huffman."
   ]
  },
  {
   "cell_type": "code",
   "execution_count": 1,
   "metadata": {},
   "outputs": [],
   "source": [
    "# para utilizar a aplicacao execute\n",
    "# $ conda install -c menpo imageio\n",
    "# $ conda install -c conda-forge pillow\n",
    "\n",
    "import cv2\n",
    "import sys\n",
    "import copy\n",
    "import time\n",
    "import queue\n",
    "import string\n",
    "import numpy as np\n",
    "from itertools import chain\n",
    "from collections import Counter\n",
    "from PIL import Image,ImageChops\n",
    "from matplotlib import pyplot as plt\n",
    "from operator import itemgetter, attrgetter"
   ]
  },
  {
   "cell_type": "markdown",
   "metadata": {},
   "source": [
    "Definição da estrutura de dados e funções auxiliares que serão utilizados para a criação e para o uso da árvore exigida pelo Algoritmo."
   ]
  },
  {
   "cell_type": "code",
   "execution_count": 2,
   "metadata": {},
   "outputs": [],
   "source": [
    "# classe que representara uma unidade de no na arvore\n",
    "class Node:\n",
    "    def __init__(self):\n",
    "        self.prob = None\n",
    "        self.code = None\n",
    "        self.data = None\n",
    "        self.left = None\n",
    "        self.right = None\n",
    "    def __lt__(self, other):\n",
    "        if (self.prob < other.prob):  # promove uma classificacao na fila de prioridades\n",
    "            return 1\n",
    "        else:\n",
    "            return 0\n",
    "    def __ge__(self, other):\n",
    "        if (self.prob > other.prob):\n",
    "            return 1\n",
    "        else:\n",
    "            return 0"
   ]
  },
  {
   "cell_type": "code",
   "execution_count": 3,
   "metadata": {},
   "outputs": [],
   "source": [
    "def rgb2gray(img):\n",
    "    gray_img = cv2.cvtColor(img, cv2.COLOR_RGB2GRAY)\n",
    "    return gray_img"
   ]
  },
  {
   "cell_type": "code",
   "execution_count": 4,
   "metadata": {},
   "outputs": [],
   "source": [
    "def get2smallest(data):  # can be used instead of inbuilt function get(). was not used in implementation\n",
    "    first = second = 1\n",
    "    fid = sid = 0\n",
    "    for idx, element in enumerate(data):\n",
    "        if (element < first):\n",
    "            second = first\n",
    "            sid = fid\n",
    "            first = element\n",
    "            fid = idx\n",
    "        elif (element < second and element != first):\n",
    "            second = element\n",
    "    return fid, first, sid, second"
   ]
  },
  {
   "cell_type": "code",
   "execution_count": 5,
   "metadata": {},
   "outputs": [],
   "source": [
    "def tree(probabilities):\n",
    "    prq = queue.PriorityQueue()\n",
    "    for color, probability in enumerate(probabilities):\n",
    "        leaf = Node()\n",
    "        leaf.data = color\n",
    "        leaf.prob = probability\n",
    "        prq.put(leaf)\n",
    "    while (prq.qsize() > 1):\n",
    "        newnode = Node()  # criacao de um novo no\n",
    "        l = prq.get()\n",
    "        r = prq.get()  # identifica as menores probabilidades na arvore\n",
    "        # remove os dois menores nos\n",
    "        newnode.left = l  # no da esquerda sera o menor\n",
    "        newnode.right = r\n",
    "        newprob = l.prob + r.prob  #  a nova probabilidade no novo no deve ser a soma dos outros dois\n",
    "        newnode.prob = newprob\n",
    "        prq.put(newnode)  #  o novo no eh inserido, substituindo os outros dois\n",
    "    return prq.get()  #  retorna o caminho de nos - a arvore esta completa"
   ]
  },
  {
   "cell_type": "code",
   "execution_count": 6,
   "metadata": {},
   "outputs": [],
   "source": [
    "def huffman_traversal(root_node,tmp_array,f):  # traversal of the tree to generate codes\n",
    "    if (root_node.left is not None):\n",
    "        tmp_array[huffman_traversal.count] = 1\n",
    "        huffman_traversal.count += 1\n",
    "        huffman_traversal(root_node.left,tmp_array,f)\n",
    "        huffman_traversal.count -= 1\n",
    "    if (root_node.right is not None):\n",
    "        tmp_array[huffman_traversal.count] = 0\n",
    "        huffman_traversal.count += 1\n",
    "        huffman_traversal(root_node.right,tmp_array,f)\n",
    "        huffman_traversal.count -= 1\n",
    "    else: \n",
    "        huffman_traversal.output_bits[root_node.data] = huffman_traversal.count  # promove a contagem de bits para uma determinada cor\n",
    "        bitstream = ''.join(str(cell) for cell in tmp_array[1:huffman_traversal.count]) \n",
    "        color = str(root_node.data)\n",
    "        wr_str = color + ' ' + bitstream + '\\n'\n",
    "        f.write(wr_str)  # escreve a cor e o codigo em um arquivo externo"
   ]
  },
  {
   "cell_type": "code",
   "execution_count": 7,
   "metadata": {},
   "outputs": [],
   "source": [
    "# Read an bmp image into a numpy array\n",
    "img = cv2.imread('tiger.bmp')"
   ]
  },
  {
   "cell_type": "code",
   "execution_count": 8,
   "metadata": {},
   "outputs": [],
   "source": [
    "# convert to grayscale\n",
    "gray_img = rgb2gray(img)"
   ]
  },
  {
   "cell_type": "code",
   "execution_count": 9,
   "metadata": {},
   "outputs": [],
   "source": [
    "# compute histogram of pixels\n",
    "hist = np.bincount(gray_img.ravel(),minlength=256)"
   ]
  },
  {
   "cell_type": "code",
   "execution_count": 10,
   "metadata": {},
   "outputs": [],
   "source": [
    "probabilities = hist / np.sum(hist)  # a priori probabilities from frequencies"
   ]
  },
  {
   "cell_type": "code",
   "execution_count": 11,
   "metadata": {},
   "outputs": [],
   "source": [
    "root_node = tree(probabilities)  # create the tree using the probs.\n",
    "tmp_array = np.ones([64],dtype=int)\n",
    "huffman_traversal.output_bits = np.empty(256,dtype=int) \n",
    "huffman_traversal.count = 0\n",
    "f = open('codes.txt','w')\n",
    "huffman_traversal(root_node, tmp_array, f)  # traverse the tree and write the codes"
   ]
  },
  {
   "cell_type": "code",
   "execution_count": 12,
   "metadata": {
    "tags": []
   },
   "outputs": [
    {
     "output_type": "stream",
     "name": "stdout",
     "text": "Compression is  12.713601919110395  percent\n"
    }
   ],
   "source": [
    "input_bits = np.shape(img)[0]* np.shape(img)[1] * 8  # calculate number of bits in grayscale \n",
    "compression = (1 - np.sum(huffman_traversal.output_bits *hist) / input_bits) * 100  # compression rate\n",
    "print('Compression is ',compression,' percent')"
   ]
  },
  {
   "cell_type": "code",
   "execution_count": null,
   "metadata": {},
   "outputs": [],
   "source": []
  },
  {
   "cell_type": "code",
   "execution_count": null,
   "metadata": {},
   "outputs": [],
   "source": []
  },
  {
   "cell_type": "code",
   "execution_count": null,
   "metadata": {},
   "outputs": [],
   "source": []
  },
  {
   "cell_type": "code",
   "execution_count": null,
   "metadata": {},
   "outputs": [],
   "source": []
  },
  {
   "cell_type": "code",
   "execution_count": null,
   "metadata": {},
   "outputs": [],
   "source": []
  },
  {
   "cell_type": "code",
   "execution_count": null,
   "metadata": {},
   "outputs": [],
   "source": []
  },
  {
   "cell_type": "code",
   "execution_count": null,
   "metadata": {},
   "outputs": [],
   "source": []
  },
  {
   "cell_type": "code",
   "execution_count": 13,
   "metadata": {},
   "outputs": [],
   "source": [
    "def count_symbols(image):\n",
    "    pixels = image.getdata()\n",
    "    values = chain.from_iterable(pixels)\n",
    "    counts = Counter(values).items()\n",
    "    return sorted(counts, key=lambda x:x[::-1])"
   ]
  },
  {
   "cell_type": "code",
   "execution_count": 14,
   "metadata": {},
   "outputs": [],
   "source": [
    "def build_tree(counts) :\n",
    "    nodes = [entry[::-1] for entry in counts] # Reverse each (symbol,count) tuple\n",
    "    while len(nodes) > 1 :\n",
    "        leastTwo = tuple(nodes[0:2]) # get the 2 to combine\n",
    "        theRest = nodes[2:] # all the others\n",
    "        combFreq = leastTwo[0][0] + leastTwo[1][0]  # the branch points freq\n",
    "        nodes = theRest + [(combFreq, leastTwo)] # add branch point to the end\n",
    "        nodes.sort(key=lambda t: t[0]) # sort it into place\n",
    "    return nodes[0] # Return the single tree inside the list"
   ]
  },
  {
   "cell_type": "code",
   "execution_count": 15,
   "metadata": {},
   "outputs": [],
   "source": [
    "def trim_tree(tree) :\n",
    "    p = tree[1] # Ignore freq count in [0]\n",
    "    if type(p) is tuple: # Node, trim left then right and recombine\n",
    "        return (trim_tree(p[0]), trim_tree(p[1]))\n",
    "    return p # Leaf, just return it"
   ]
  },
  {
   "cell_type": "code",
   "execution_count": 16,
   "metadata": {},
   "outputs": [],
   "source": [
    "def assign_codes_impl(codes, node, pat):\n",
    "    if type(node) == tuple:\n",
    "        assign_codes_impl(codes, node[0], pat + [0]) # Branch point. Do the left branch\n",
    "        assign_codes_impl(codes, node[1], pat + [1]) # then do the right branch.\n",
    "    else:\n",
    "        codes[node] = pat # A leaf. set its code\n",
    "\n",
    "def assign_codes(tree):\n",
    "    codes = {}\n",
    "    assign_codes_impl(codes, tree, [])\n",
    "    return codes"
   ]
  },
  {
   "cell_type": "code",
   "execution_count": 17,
   "metadata": {},
   "outputs": [],
   "source": [
    "def to_binary_list(n):\n",
    "    \"\"\"Convert integer into a list of bits\"\"\"\n",
    "    return [n] if (n <= 1) else to_binary_list(n >> 1) + [n & 1]\n",
    "\n",
    "def from_binary_list(bits):\n",
    "    \"\"\"Convert list of bits into an integer\"\"\"\n",
    "    result = 0\n",
    "    for bit in bits:\n",
    "        result = (result << 1) | bit\n",
    "    return result\n",
    "\n",
    "def pad_bits(bits, n):\n",
    "    \"\"\"Prefix list of bits with enough zeros to reach n digits\"\"\"\n",
    "    assert(n >= len(bits))\n",
    "    return ([0] * (n - len(bits)) + bits)"
   ]
  },
  {
   "cell_type": "code",
   "execution_count": 18,
   "metadata": {},
   "outputs": [],
   "source": [
    "class OutputBitStream: \n",
    "    def __init__(self, file_name): \n",
    "        self.file_name = file_name\n",
    "        self.file = open(self.file_name, 'wb') \n",
    "        self.bytes_written = 0\n",
    "        self.buffer = []\n",
    "\n",
    "    def write_bit(self, value):\n",
    "        self.write_bits([value])\n",
    "\n",
    "    def write_bits(self, values):\n",
    "        self.buffer += values\n",
    "        while len(self.buffer) >= 8:\n",
    "            self._save_byte()        \n",
    "\n",
    "    def flush(self):\n",
    "        if len(self.buffer) > 0: # Add trailing zeros to complete a byte and write it\n",
    "            self.buffer += [0] * (8 - len(self.buffer))\n",
    "            self._save_byte()\n",
    "        assert(len(self.buffer) == 0)\n",
    "\n",
    "    def _save_byte(self):\n",
    "        bits = self.buffer[:8]\n",
    "        self.buffer[:] = self.buffer[8:]\n",
    "\n",
    "        byte_value = from_binary_list(bits)\n",
    "        self.file.write(bytes([byte_value]))\n",
    "        self.bytes_written += 1\n",
    "\n",
    "    def close(self): \n",
    "        self.flush()\n",
    "        self.file.close()"
   ]
  },
  {
   "cell_type": "code",
   "execution_count": 19,
   "metadata": {},
   "outputs": [],
   "source": [
    "class InputBitStream: \n",
    "    def __init__(self, file_name): \n",
    "        self.file_name = file_name\n",
    "        self.file = open(self.file_name, 'rb') \n",
    "        self.bytes_read = 0\n",
    "        self.buffer = []\n",
    "\n",
    "    def read_bit(self):\n",
    "        return self.read_bits(1)[0]\n",
    "\n",
    "    def read_bits(self, count):\n",
    "        while len(self.buffer) < count:\n",
    "            self._load_byte()\n",
    "        result = self.buffer[:count]\n",
    "        self.buffer[:] = self.buffer[count:]\n",
    "        return result\n",
    "\n",
    "    def flush(self):\n",
    "        assert(not any(self.buffer))\n",
    "        self.buffer[:] = []\n",
    "\n",
    "    def _load_byte(self):\n",
    "        value = ord(self.file.read(1))\n",
    "        self.buffer += pad_bits(to_binary_list(value), 8)\n",
    "        self.bytes_read += 1\n",
    "\n",
    "    def close(self): \n",
    "        self.file.close()"
   ]
  },
  {
   "cell_type": "code",
   "execution_count": 21,
   "metadata": {},
   "outputs": [],
   "source": [
    "def compressed_size(counts, codes):\n",
    "    header_size = 2 * 16 # height and width as 16 bit values\n",
    "\n",
    "    tree_size = len(counts) * (1 + 8) # Leafs: 1 bit flag, 8 bit symbol each\n",
    "    tree_size += len(counts) - 1 # Nodes: 1 bit flag each\n",
    "    if tree_size % 8 > 0: # Padding to next full byte\n",
    "        tree_size += 8 - (tree_size % 8)\n",
    "\n",
    "    # Sum for each symbol of count * code length\n",
    "    pixels_size = sum([count * len(codes[symbol]) for symbol, count in counts])\n",
    "    if pixels_size % 8 > 0: # Padding to next full byte\n",
    "        pixels_size += 8 - (pixels_size % 8)\n",
    "\n",
    "    return (header_size + tree_size + pixels_size) / 8"
   ]
  },
  {
   "cell_type": "code",
   "execution_count": null,
   "metadata": {},
   "outputs": [],
   "source": [
    "def encode_header(image, bitstream):\n",
    "    height_bits = pad_bits(to_binary_list(image.height), 16)\n",
    "    bitstream.write_bits(height_bits)    \n",
    "    width_bits = pad_bits(to_binary_list(image.width), 16)\n",
    "    bitstream.write_bits(width_bits)"
   ]
  },
  {
   "cell_type": "code",
   "execution_count": null,
   "metadata": {},
   "outputs": [],
   "source": [
    "def encode_tree(tree, bitstream):\n",
    "    if type(tree) == tuple: # Note - write 0 and encode children\n",
    "        bitstream.write_bit(0)\n",
    "        encode_tree(tree[0], bitstream)\n",
    "        encode_tree(tree[1], bitstream)\n",
    "    else: # Leaf - write 1, followed by 8 bit symbol\n",
    "        bitstream.write_bit(1)\n",
    "        symbol_bits = pad_bits(to_binary_list(tree), 8)\n",
    "        bitstream.write_bits(symbol_bits)"
   ]
  },
  {
   "cell_type": "code",
   "execution_count": null,
   "metadata": {},
   "outputs": [],
   "source": [
    "def encode_pixels(image, codes, bitstream):\n",
    "    for pixel in image.getdata():\n",
    "        for value in pixel:\n",
    "            bitstream.write_bits(codes[value])"
   ]
  },
  {
   "cell_type": "code",
   "execution_count": null,
   "metadata": {},
   "outputs": [],
   "source": [
    "def compress_image(in_file_name, out_file_name):\n",
    "    print('Compressing \"%s\" -> \"%s\"' % (in_file_name, out_file_name))\n",
    "    image = Image.open(in_file_name)\n",
    "    print('Image shape: (height=%d, width=%d)' % (image.height, image.width))\n",
    "    size_raw = raw_size(image.height, image.width)\n",
    "    print('RAW image size: %d bytes' % size_raw)\n",
    "    counts = count_symbols(image)\n",
    "    print('Counts: %s' % counts)\n",
    "    tree = build_tree(counts)\n",
    "    print('Tree: %s' % str(tree))\n",
    "    trimmed_tree = trim_tree(tree)\n",
    "    print('Trimmed tree: %s' % str(trimmed_tree))\n",
    "    codes = assign_codes(trimmed_tree)\n",
    "    print('Codes: %s' % codes)\n",
    "    size_estimate = compressed_size(counts, codes)\n",
    "    print('Estimated size: %d bytes' % size_estimate)\n",
    "    print('Writing...')\n",
    "    stream = OutputBitStream(out_file_name)\n",
    "    print('* Header offset: %d' % stream.bytes_written)\n",
    "    encode_header(image, stream)\n",
    "    stream.flush() # Ensure next chunk is byte-aligned\n",
    "    print('* Tree offset: %d' % stream.bytes_written)\n",
    "    encode_tree(trimmed_tree, stream)\n",
    "    stream.flush() # Ensure next chunk is byte-aligned\n",
    "    print('* Pixel offset: %d' % stream.bytes_written)\n",
    "    encode_pixels(image, codes, stream)\n",
    "    stream.close()\n",
    "    size_real = stream.bytes_written\n",
    "    print('Wrote %d bytes.' % size_real)\n",
    "    print('Estimate is %scorrect.' % ('' if size_estimate == size_real else 'in'))\n",
    "    print('Compression ratio: %0.2f' % (float(size_raw) / size_real))"
   ]
  },
  {
   "cell_type": "code",
   "execution_count": 22,
   "metadata": {},
   "outputs": [],
   "source": [
    "def decode_header(bitstream):\n",
    "    height = from_binary_list(bitstream.read_bits(16))\n",
    "    width = from_binary_list(bitstream.read_bits(16))\n",
    "    return (height, width)\n",
    "\n",
    "# https://stackoverflow.com/a/759766/3962537\n",
    "def decode_tree(bitstream):\n",
    "    flag = bitstream.read_bits(1)[0]\n",
    "    if flag == 1: # Leaf, read and return symbol\n",
    "        return from_binary_list(bitstream.read_bits(8))\n",
    "    left = decode_tree(bitstream)\n",
    "    right = decode_tree(bitstream)\n",
    "    return (left, right)\n",
    "\n",
    "def decode_value(tree, bitstream):\n",
    "    bit = bitstream.read_bits(1)[0]\n",
    "    node = tree[bit]\n",
    "    if type(node) == tuple:\n",
    "        return decode_value(node, bitstream)\n",
    "    return node\n",
    "\n",
    "def decode_pixels(height, width, tree, bitstream):\n",
    "    pixels = bytearray()\n",
    "    for i in range(height * width * 3):\n",
    "        pixels.append(decode_value(tree, bitstream))\n",
    "    return Image.frombytes('RGB', (width, height), bytes(pixels))\n",
    "\n",
    "def decompress_image(in_file_name, out_file_name):\n",
    "    print('Decompressing \"%s\" -> \"%s\"' % (in_file_name, out_file_name))\n",
    "\n",
    "    print('Reading...')\n",
    "    stream = InputBitStream(in_file_name)\n",
    "    print('* Header offset: %d' % stream.bytes_read)\n",
    "    height, width = decode_header(stream)\n",
    "    stream.flush() # Ensure next chunk is byte-aligned\n",
    "    print('* Tree offset: %d' % stream.bytes_read)    \n",
    "    trimmed_tree = decode_tree(stream)\n",
    "    stream.flush() # Ensure next chunk is byte-aligned\n",
    "    print('* Pixel offset: %d' % stream.bytes_read)\n",
    "    image = decode_pixels(height, width, trimmed_tree, stream)\n",
    "    stream.close()\n",
    "    print('Read %d bytes.' % stream.bytes_read)\n",
    "\n",
    "    print('Image size: (height=%d, width=%d)' % (height, width))\n",
    "    print('Trimmed tree: %s' % str(trimmed_tree))\n",
    "    image.save(out_file_name)"
   ]
  },
  {
   "cell_type": "code",
   "execution_count": 23,
   "metadata": {},
   "outputs": [
    {
     "name": "stdout",
     "output_type": "stream",
     "text": [
      "Compressing \"tiger.png\" -> \"answer.txt\"\n",
      "Image shape: (height=354, width=630)\n",
      "RAW image size: 669064 bytes\n",
      "Counts: [(246, 243), (242, 254), (243, 256), (240, 257), (241, 272), (245, 285), (244, 290), (237, 294), (235, 295), (238, 300), (239, 301), (236, 305), (247, 306), (233, 307), (234, 313), (248, 316), (230, 329), (232, 340), (225, 351), (249, 355), (231, 360), (227, 363), (229, 363), (226, 364), (255, 367), (228, 373), (250, 381), (223, 391), (215, 405), (219, 406), (224, 406), (222, 407), (218, 415), (220, 427), (221, 429), (214, 434), (251, 436), (213, 452), (217, 460), (208, 464), (216, 467), (253, 468), (206, 481), (211, 481), (210, 484), (254, 490), (209, 491), (212, 494), (252, 501), (207, 503), (204, 512), (205, 518), (200, 530), (198, 534), (201, 554), (194, 559), (202, 561), (196, 563), (203, 572), (197, 574), (191, 580), (192, 584), (195, 587), (193, 596), (190, 597), (185, 609), (199, 622), (189, 628), (188, 631), (187, 633), (184, 650), (186, 655), (181, 684), (183, 697), (179, 700), (180, 706), (172, 707), (178, 714), (182, 720), (176, 727), (177, 745), (175, 766), (174, 775), (171, 789), (173, 798), (169, 805), (168, 814), (170, 821), (165, 861), (164, 875), (167, 890), (166, 925), (161, 930), (162, 938), (163, 983), (160, 993), (156, 1000), (153, 1008), (159, 1012), (155, 1029), (158, 1036), (154, 1048), (151, 1051), (157, 1059), (149, 1078), (152, 1094), (147, 1099), (145, 1102), (148, 1118), (150, 1145), (146, 1153), (142, 1168), (139, 1183), (141, 1189), (143, 1205), (144, 1207), (140, 1261), (131, 1271), (135, 1273), (134, 1277), (138, 1295), (136, 1301), (133, 1317), (128, 1329), (130, 1332), (137, 1332), (132, 1340), (129, 1362), (124, 1383), (125, 1409), (126, 1414), (127, 1423), (123, 1452), (122, 1471), (120, 1490), (121, 1493), (117, 1545), (118, 1573), (119, 1583), (114, 1614), (115, 1626), (116, 1638), (113, 1644), (111, 1705), (112, 1737), (110, 1794), (109, 1805), (108, 1819), (107, 1861), (105, 1953), (106, 1996), (104, 2011), (103, 2061), (102, 2075), (101, 2142), (100, 2230), (99, 2249), (97, 2308), (98, 2313), (96, 2397), (95, 2490), (93, 2575), (94, 2577), (92, 2751), (91, 2777), (90, 2836), (89, 2992), (88, 3117), (87, 3246), (86, 3345), (85, 3358), (84, 3466), (17, 3552), (19, 3557), (83, 3601), (20, 3633), (24, 3661), (22, 3670), (21, 3672), (18, 3684), (23, 3692), (25, 3729), (81, 3751), (82, 3751), (15, 3839), (16, 3863), (26, 3927), (27, 3966), (80, 3970), (28, 3999), (79, 4008), (14, 4093), (77, 4121), (30, 4162), (29, 4202), (78, 4228), (31, 4273), (13, 4328), (32, 4418), (76, 4447), (34, 4480), (33, 4481), (75, 4573), (74, 4595), (35, 4731), (12, 4799), (36, 4851), (73, 4862), (37, 4930), (71, 4967), (72, 5041), (38, 5131), (39, 5231), (70, 5254), (11, 5257), (69, 5306), (40, 5407), (68, 5416), (41, 5421), (67, 5517), (66, 5556), (42, 5586), (43, 5633), (65, 5727), (64, 5748), (44, 5917), (63, 5937), (62, 5987), (45, 5990), (10, 6156), (61, 6184), (46, 6207), (47, 6266), (49, 6343), (60, 6513), (48, 6522), (59, 6525), (58, 6565), (57, 6575), (53, 6659), (50, 6672), (52, 6718), (54, 6745), (56, 6771), (51, 6773), (55, 6801), (9, 7300), (8, 8741), (0, 9984), (1, 10135), (7, 10657), (6, 12512), (2, 12599), (5, 13773), (3, 14179), (4, 14495)]\n",
      "Tree: (669060, ((275073, ((124597, ((59492, ((29288, ((14594, ((7294, ((3633, 20), (3661, 24))), (7300, 9))), (14694, ((7338, ((3668, ((1819, 108), (1849, ((924, ((460, 217), (464, 208))), (925, 166))))), (3670, 22))), (7356, ((3672, 21), (3684, 18))))))), (30204, ((14898, ((7418, ((3692, 23), (3726, ((1861, 107), (1865, ((930, 161), (935, ((467, 216), (468, 253))))))))), (7480, ((3729, 25), (3751, 81))))), (15306, ((7590, ((3751, 82), (3839, 15))), (7716, ((3853, ((1900, ((938, 162), (962, ((481, 206), (481, 211))))), (1953, 105))), (3863, 16))))))))), (65105, ((31830, ((15798, ((7862, ((3927, 26), (3935, ((1957, ((974, ((484, 210), (490, 254))), (983, 163))), (1978, ((985, ((491, 209), (494, 212))), (993, 160))))))), (7936, ((3966, 27), (3970, 80))))), (16032, ((7993, ((3994, ((1996, 106), (1998, ((998, ((497, ((243, 246), (254, 242))), (501, 252))), (1000, 156))))), (3999, 28))), (8039, ((4008, 79), (4031, ((2011, 104), (2020, ((1008, 153), (1012, 159))))))))))), (33275, ((16461, ((8198, ((4093, 14), (4105, ((2044, ((1015, ((503, 207), (512, 204))), (1029, 155))), (2061, 103))))), (8263, ((4121, 77), (4142, ((2067, ((1031, ((513, ((256, 243), (257, 240))), (518, 205))), (1036, 158))), (2075, 102))))))), (16814, ((8364, ((4162, 30), (4202, 29))), (8450, ((4222, ((2099, ((1048, 154), (1051, 151))), (2123, ((1059, 157), (1064, ((530, 200), (534, 198))))))), (4228, 78))))))))))), (150476, ((71405, ((34951, ((17328, ((8587, ((4273, 31), (4314, ((2142, 101), (2172, ((1078, 149), (1094, 152))))))), (8741, 8))), (17623, ((8746, ((4328, 13), (4418, 32))), (8877, ((4430, ((2201, ((1099, 147), (1102, 145))), (2229, ((1111, ((554, 201), (557, ((272, 241), (285, 245))))), (1118, 148))))), (4447, 76))))))), (36454, ((17993, ((8959, ((4479, ((2230, 100), (2249, 99))), (4480, 34))), (9034, ((4481, 33), (4553, ((2255, ((1120, ((559, 194), (561, 202))), (1135, ((563, 196), (572, 203))))), (2298, ((1145, 150), (1153, 146))))))))), (18461, ((9168, ((4573, 75), (4595, 74))), (9293, ((4621, ((2308, 97), (2313, 98))), (4672, ((2322, ((1154, ((574, 197), (580, 191))), (1168, 142))), (2350, ((1168, ((584, 192), (584, ((290, 244), (294, 237))))), (1182, ((587, 195), (595, ((295, 235), (300, 238))))))))))))))))), (79071, ((38729, ((19119, ((9500, ((4731, 35), (4769, ((2372, ((1183, 139), (1189, 141))), (2397, 96))))), (9619, ((4799, 12), (4820, ((2398, ((1193, ((596, 193), (597, 190))), (1205, 143))), (2422, ((1207, 144), (1215, ((606, ((301, 239), (305, 236))), (609, 185))))))))))), (19610, ((9713, ((4851, 36), (4862, 73))), (9897, ((4930, 37), (4967, 71))))))), (40342, ((20007, ((9984, 0), (10023, ((4982, ((2490, 95), (2492, ((1235, ((613, ((306, 247), (307, 233))), (622, 199))), (1257, ((628, 189), (629, ((313, 234), (316, 248))))))))), (5041, 72))))), (20335, ((10135, 1), (10200, ((5069, ((2525, ((1261, 140), (1264, ((631, 188), (633, 187))))), (2544, ((1271, 131), (1273, 135))))), (5131, 38))))))))))))), (393987, ((179939, ((85628, ((42035, ((20815, ((10330, ((5147, ((2572, ((1277, 134), (1295, 138))), (2575, 93))), (5183, ((2577, 94), (2606, ((1301, 136), (1305, ((650, 184), (655, 186))))))))), (10485, ((5231, 39), (5254, 70))))), (21220, ((10563, ((5257, 11), (5306, 69))), (10657, 7))))), (43593, ((21554, ((10717, ((5310, ((2646, ((1317, 133), (1329, 128))), (2664, ((1332, 130), (1332, 137))))), (5407, 40))), (10837, ((5416, 68), (5421, 41))))), (22039, ((10955, ((5438, ((2693, ((1340, 132), (1353, ((669, ((329, 230), (340, 232))), (684, 181))))), (2745, ((1362, 129), (1383, 124))))), (5517, 67))), (11084, ((5528, ((2751, 92), (2777, 91))), (5556, 66))))))))), (94311, ((45743, ((22531, ((11218, ((5586, 42), (5632, ((2806, ((1397, ((697, 183), (700, 179))), (1409, 125))), (2826, ((1412, ((706, 180), (706, ((351, 225), (355, 249))))), (1414, 126))))))), (11313, ((5633, 43), (5680, ((2836, 90), (2844, ((1421, ((707, 172), (714, 178))), (1423, 127))))))))), (23212, ((11475, ((5727, 65), (5748, 64))), (11737, ((5820, ((2895, ((1443, ((720, 182), (723, ((360, 231), (363, 227))))), (1452, 123))), (2925, ((1454, ((727, 176), (727, ((363, 229), (364, 226))))), (1471, 122))))), (5917, 44))))))), (48568, ((23881, ((11904, ((5937, 63), (5967, ((2975, ((1485, ((740, ((367, 255), (373, 228))), (745, 177))), (1490, 120))), (2992, 89))))), (11977, ((5987, 62), (5990, 45))))), (24687, ((12296, ((6140, ((3031, ((1493, 121), (1538, ((766, 175), (772, ((381, 250), (391, 223))))))), (3109, ((1545, 117), (1564, ((775, 174), (789, 171))))))), (6156, 10))), (12391, ((6184, 61), (6207, 46))))))))))), (214048, ((103010, ((50456, ((25051, ((12512, 6), (12539, ((6266, 47), (6273, ((3117, 88), (3156, ((1573, 118), (1583, 119))))))))), (25405, ((12599, 2), (12806, ((6343, 49), (6463, ((3217, ((1603, ((798, 173), (805, 169))), (1614, 114))), (3246, 87))))))))), (52554, ((26083, ((13035, ((6513, 60), (6522, 48))), (13048, ((6523, ((3250, ((1624, ((811, ((405, 215), (406, 219))), (813, ((406, 224), (407, 222))))), (1626, 115))), (3273, ((1635, ((814, 168), (821, 170))), (1638, 116))))), (6525, 59))))), (26471, ((13140, ((6565, 58), (6575, 57))), (13331, ((6659, 53), (6672, 50))))))))), (111038, ((54272, ((26926, ((13410, ((6692, ((3345, 86), (3347, ((1644, 113), (1703, ((842, ((415, 218), (427, 220))), (861, 165))))))), (6718, 52))), (13516, ((6745, 54), (6771, 56))))), (27346, ((13573, ((6773, 51), (6800, ((3358, 85), (3442, ((1705, 111), (1737, 112))))))), (13773, 5))))), (56766, ((27962, ((13783, ((6801, 55), (6982, ((3466, 84), (3516, ((1738, ((863, ((429, 221), (434, 214))), (875, 164))), (1778, ((888, ((436, 251), (452, 213))), (890, 167))))))))), (14179, 3))), (28804, ((14309, ((7109, ((3552, 17), (3557, 19))), (7200, ((3599, ((1794, 110), (1805, 109))), (3601, 83))))), (14495, 4)))))))))))))\n",
      "Trimmed tree: (((((((20, 24), 9), (((108, ((217, 208), 166)), 22), (21, 18))), (((23, (107, (161, (216, 253)))), (25, 81)), ((82, 15), (((162, (206, 211)), 105), 16)))), ((((26, (((210, 254), 163), ((209, 212), 160))), (27, 80)), (((106, (((246, 242), 252), 156)), 28), (79, (104, (153, 159))))), (((14, (((207, 204), 155), 103)), (77, ((((243, 240), 205), 158), 102))), ((30, 29), (((154, 151), (157, (200, 198))), 78))))), (((((31, (101, (149, 152))), 8), ((13, 32), (((147, 145), ((201, (241, 245)), 148)), 76))), ((((100, 99), 34), (33, (((194, 202), (196, 203)), (150, 146)))), ((75, 74), ((97, 98), (((197, 191), 142), ((192, (244, 237)), (195, (235, 238)))))))), ((((35, ((139, 141), 96)), (12, (((193, 190), 143), (144, ((239, 236), 185))))), ((36, 73), (37, 71))), ((0, ((95, (((247, 233), 199), (189, (234, 248)))), 72)), (1, (((140, (188, 187)), (131, 135)), 38)))))), ((((((((134, 138), 93), (94, (136, (184, 186)))), (39, 70)), ((11, 69), 7)), (((((133, 128), (130, 137)), 40), (68, 41)), ((((132, ((230, 232), 181)), (129, 124)), 67), ((92, 91), 66)))), ((((42, (((183, 179), 125), ((180, (225, 249)), 126))), (43, (90, ((172, 178), 127)))), ((65, 64), ((((182, (231, 227)), 123), ((176, (229, 226)), 122)), 44))), (((63, ((((255, 228), 177), 120), 89)), (62, 45)), ((((121, (175, (250, 223))), (117, (174, 171))), 10), (61, 46))))), ((((6, (47, (88, (118, 119)))), (2, (49, (((173, 169), 114), 87)))), (((60, 48), (((((215, 219), (224, 222)), 115), ((168, 170), 116)), 59)), ((58, 57), (53, 50)))), (((((86, (113, ((218, 220), 165))), 52), (54, 56)), ((51, (85, (111, 112))), 5)), (((55, (84, (((221, 214), 164), ((251, 213), 167)))), 3), (((17, 19), ((110, 109), 83)), 4))))))\n",
      "Codes: {20: [0, 0, 0, 0, 0, 0, 0], 24: [0, 0, 0, 0, 0, 0, 1], 9: [0, 0, 0, 0, 0, 1], 108: [0, 0, 0, 0, 1, 0, 0, 0], 217: [0, 0, 0, 0, 1, 0, 0, 1, 0, 0], 208: [0, 0, 0, 0, 1, 0, 0, 1, 0, 1], 166: [0, 0, 0, 0, 1, 0, 0, 1, 1], 22: [0, 0, 0, 0, 1, 0, 1], 21: [0, 0, 0, 0, 1, 1, 0], 18: [0, 0, 0, 0, 1, 1, 1], 23: [0, 0, 0, 1, 0, 0, 0], 107: [0, 0, 0, 1, 0, 0, 1, 0], 161: [0, 0, 0, 1, 0, 0, 1, 1, 0], 216: [0, 0, 0, 1, 0, 0, 1, 1, 1, 0], 253: [0, 0, 0, 1, 0, 0, 1, 1, 1, 1], 25: [0, 0, 0, 1, 0, 1, 0], 81: [0, 0, 0, 1, 0, 1, 1], 82: [0, 0, 0, 1, 1, 0, 0], 15: [0, 0, 0, 1, 1, 0, 1], 162: [0, 0, 0, 1, 1, 1, 0, 0, 0], 206: [0, 0, 0, 1, 1, 1, 0, 0, 1, 0], 211: [0, 0, 0, 1, 1, 1, 0, 0, 1, 1], 105: [0, 0, 0, 1, 1, 1, 0, 1], 16: [0, 0, 0, 1, 1, 1, 1], 26: [0, 0, 1, 0, 0, 0, 0], 210: [0, 0, 1, 0, 0, 0, 1, 0, 0, 0], 254: [0, 0, 1, 0, 0, 0, 1, 0, 0, 1], 163: [0, 0, 1, 0, 0, 0, 1, 0, 1], 209: [0, 0, 1, 0, 0, 0, 1, 1, 0, 0], 212: [0, 0, 1, 0, 0, 0, 1, 1, 0, 1], 160: [0, 0, 1, 0, 0, 0, 1, 1, 1], 27: [0, 0, 1, 0, 0, 1, 0], 80: [0, 0, 1, 0, 0, 1, 1], 106: [0, 0, 1, 0, 1, 0, 0, 0], 246: [0, 0, 1, 0, 1, 0, 0, 1, 0, 0, 0], 242: [0, 0, 1, 0, 1, 0, 0, 1, 0, 0, 1], 252: [0, 0, 1, 0, 1, 0, 0, 1, 0, 1], 156: [0, 0, 1, 0, 1, 0, 0, 1, 1], 28: [0, 0, 1, 0, 1, 0, 1], 79: [0, 0, 1, 0, 1, 1, 0], 104: [0, 0, 1, 0, 1, 1, 1, 0], 153: [0, 0, 1, 0, 1, 1, 1, 1, 0], 159: [0, 0, 1, 0, 1, 1, 1, 1, 1], 14: [0, 0, 1, 1, 0, 0, 0], 207: [0, 0, 1, 1, 0, 0, 1, 0, 0, 0], 204: [0, 0, 1, 1, 0, 0, 1, 0, 0, 1], 155: [0, 0, 1, 1, 0, 0, 1, 0, 1], 103: [0, 0, 1, 1, 0, 0, 1, 1], 77: [0, 0, 1, 1, 0, 1, 0], 243: [0, 0, 1, 1, 0, 1, 1, 0, 0, 0, 0], 240: [0, 0, 1, 1, 0, 1, 1, 0, 0, 0, 1], 205: [0, 0, 1, 1, 0, 1, 1, 0, 0, 1], 158: [0, 0, 1, 1, 0, 1, 1, 0, 1], 102: [0, 0, 1, 1, 0, 1, 1, 1], 30: [0, 0, 1, 1, 1, 0, 0], 29: [0, 0, 1, 1, 1, 0, 1], 154: [0, 0, 1, 1, 1, 1, 0, 0, 0], 151: [0, 0, 1, 1, 1, 1, 0, 0, 1], 157: [0, 0, 1, 1, 1, 1, 0, 1, 0], 200: [0, 0, 1, 1, 1, 1, 0, 1, 1, 0], 198: [0, 0, 1, 1, 1, 1, 0, 1, 1, 1], 78: [0, 0, 1, 1, 1, 1, 1], 31: [0, 1, 0, 0, 0, 0, 0], 101: [0, 1, 0, 0, 0, 0, 1, 0], 149: [0, 1, 0, 0, 0, 0, 1, 1, 0], 152: [0, 1, 0, 0, 0, 0, 1, 1, 1], 8: [0, 1, 0, 0, 0, 1], 13: [0, 1, 0, 0, 1, 0, 0], 32: [0, 1, 0, 0, 1, 0, 1], 147: [0, 1, 0, 0, 1, 1, 0, 0, 0], 145: [0, 1, 0, 0, 1, 1, 0, 0, 1], 201: [0, 1, 0, 0, 1, 1, 0, 1, 0, 0], 241: [0, 1, 0, 0, 1, 1, 0, 1, 0, 1, 0], 245: [0, 1, 0, 0, 1, 1, 0, 1, 0, 1, 1], 148: [0, 1, 0, 0, 1, 1, 0, 1, 1], 76: [0, 1, 0, 0, 1, 1, 1], 100: [0, 1, 0, 1, 0, 0, 0, 0], 99: [0, 1, 0, 1, 0, 0, 0, 1], 34: [0, 1, 0, 1, 0, 0, 1], 33: [0, 1, 0, 1, 0, 1, 0], 194: [0, 1, 0, 1, 0, 1, 1, 0, 0, 0], 202: [0, 1, 0, 1, 0, 1, 1, 0, 0, 1], 196: [0, 1, 0, 1, 0, 1, 1, 0, 1, 0], 203: [0, 1, 0, 1, 0, 1, 1, 0, 1, 1], 150: [0, 1, 0, 1, 0, 1, 1, 1, 0], 146: [0, 1, 0, 1, 0, 1, 1, 1, 1], 75: [0, 1, 0, 1, 1, 0, 0], 74: [0, 1, 0, 1, 1, 0, 1], 97: [0, 1, 0, 1, 1, 1, 0, 0], 98: [0, 1, 0, 1, 1, 1, 0, 1], 197: [0, 1, 0, 1, 1, 1, 1, 0, 0, 0], 191: [0, 1, 0, 1, 1, 1, 1, 0, 0, 1], 142: [0, 1, 0, 1, 1, 1, 1, 0, 1], 192: [0, 1, 0, 1, 1, 1, 1, 1, 0, 0], 244: [0, 1, 0, 1, 1, 1, 1, 1, 0, 1, 0], 237: [0, 1, 0, 1, 1, 1, 1, 1, 0, 1, 1], 195: [0, 1, 0, 1, 1, 1, 1, 1, 1, 0], 235: [0, 1, 0, 1, 1, 1, 1, 1, 1, 1, 0], 238: [0, 1, 0, 1, 1, 1, 1, 1, 1, 1, 1], 35: [0, 1, 1, 0, 0, 0, 0], 139: [0, 1, 1, 0, 0, 0, 1, 0, 0], 141: [0, 1, 1, 0, 0, 0, 1, 0, 1], 96: [0, 1, 1, 0, 0, 0, 1, 1], 12: [0, 1, 1, 0, 0, 1, 0], 193: [0, 1, 1, 0, 0, 1, 1, 0, 0, 0], 190: [0, 1, 1, 0, 0, 1, 1, 0, 0, 1], 143: [0, 1, 1, 0, 0, 1, 1, 0, 1], 144: [0, 1, 1, 0, 0, 1, 1, 1, 0], 239: [0, 1, 1, 0, 0, 1, 1, 1, 1, 0, 0], 236: [0, 1, 1, 0, 0, 1, 1, 1, 1, 0, 1], 185: [0, 1, 1, 0, 0, 1, 1, 1, 1, 1], 36: [0, 1, 1, 0, 1, 0, 0], 73: [0, 1, 1, 0, 1, 0, 1], 37: [0, 1, 1, 0, 1, 1, 0], 71: [0, 1, 1, 0, 1, 1, 1], 0: [0, 1, 1, 1, 0, 0], 95: [0, 1, 1, 1, 0, 1, 0, 0], 247: [0, 1, 1, 1, 0, 1, 0, 1, 0, 0, 0], 233: [0, 1, 1, 1, 0, 1, 0, 1, 0, 0, 1], 199: [0, 1, 1, 1, 0, 1, 0, 1, 0, 1], 189: [0, 1, 1, 1, 0, 1, 0, 1, 1, 0], 234: [0, 1, 1, 1, 0, 1, 0, 1, 1, 1, 0], 248: [0, 1, 1, 1, 0, 1, 0, 1, 1, 1, 1], 72: [0, 1, 1, 1, 0, 1, 1], 1: [0, 1, 1, 1, 1, 0], 140: [0, 1, 1, 1, 1, 1, 0, 0, 0], 188: [0, 1, 1, 1, 1, 1, 0, 0, 1, 0], 187: [0, 1, 1, 1, 1, 1, 0, 0, 1, 1], 131: [0, 1, 1, 1, 1, 1, 0, 1, 0], 135: [0, 1, 1, 1, 1, 1, 0, 1, 1], 38: [0, 1, 1, 1, 1, 1, 1], 134: [1, 0, 0, 0, 0, 0, 0, 0, 0], 138: [1, 0, 0, 0, 0, 0, 0, 0, 1], 93: [1, 0, 0, 0, 0, 0, 0, 1], 94: [1, 0, 0, 0, 0, 0, 1, 0], 136: [1, 0, 0, 0, 0, 0, 1, 1, 0], 184: [1, 0, 0, 0, 0, 0, 1, 1, 1, 0], 186: [1, 0, 0, 0, 0, 0, 1, 1, 1, 1], 39: [1, 0, 0, 0, 0, 1, 0], 70: [1, 0, 0, 0, 0, 1, 1], 11: [1, 0, 0, 0, 1, 0, 0], 69: [1, 0, 0, 0, 1, 0, 1], 7: [1, 0, 0, 0, 1, 1], 133: [1, 0, 0, 1, 0, 0, 0, 0, 0], 128: [1, 0, 0, 1, 0, 0, 0, 0, 1], 130: [1, 0, 0, 1, 0, 0, 0, 1, 0], 137: [1, 0, 0, 1, 0, 0, 0, 1, 1], 40: [1, 0, 0, 1, 0, 0, 1], 68: [1, 0, 0, 1, 0, 1, 0], 41: [1, 0, 0, 1, 0, 1, 1], 132: [1, 0, 0, 1, 1, 0, 0, 0, 0], 230: [1, 0, 0, 1, 1, 0, 0, 0, 1, 0, 0], 232: [1, 0, 0, 1, 1, 0, 0, 0, 1, 0, 1], 181: [1, 0, 0, 1, 1, 0, 0, 0, 1, 1], 129: [1, 0, 0, 1, 1, 0, 0, 1, 0], 124: [1, 0, 0, 1, 1, 0, 0, 1, 1], 67: [1, 0, 0, 1, 1, 0, 1], 92: [1, 0, 0, 1, 1, 1, 0, 0], 91: [1, 0, 0, 1, 1, 1, 0, 1], 66: [1, 0, 0, 1, 1, 1, 1], 42: [1, 0, 1, 0, 0, 0, 0], 183: [1, 0, 1, 0, 0, 0, 1, 0, 0, 0], 179: [1, 0, 1, 0, 0, 0, 1, 0, 0, 1], 125: [1, 0, 1, 0, 0, 0, 1, 0, 1], 180: [1, 0, 1, 0, 0, 0, 1, 1, 0, 0], 225: [1, 0, 1, 0, 0, 0, 1, 1, 0, 1, 0], 249: [1, 0, 1, 0, 0, 0, 1, 1, 0, 1, 1], 126: [1, 0, 1, 0, 0, 0, 1, 1, 1], 43: [1, 0, 1, 0, 0, 1, 0], 90: [1, 0, 1, 0, 0, 1, 1, 0], 172: [1, 0, 1, 0, 0, 1, 1, 1, 0, 0], 178: [1, 0, 1, 0, 0, 1, 1, 1, 0, 1], 127: [1, 0, 1, 0, 0, 1, 1, 1, 1], 65: [1, 0, 1, 0, 1, 0, 0], 64: [1, 0, 1, 0, 1, 0, 1], 182: [1, 0, 1, 0, 1, 1, 0, 0, 0, 0], 231: [1, 0, 1, 0, 1, 1, 0, 0, 0, 1, 0], 227: [1, 0, 1, 0, 1, 1, 0, 0, 0, 1, 1], 123: [1, 0, 1, 0, 1, 1, 0, 0, 1], 176: [1, 0, 1, 0, 1, 1, 0, 1, 0, 0], 229: [1, 0, 1, 0, 1, 1, 0, 1, 0, 1, 0], 226: [1, 0, 1, 0, 1, 1, 0, 1, 0, 1, 1], 122: [1, 0, 1, 0, 1, 1, 0, 1, 1], 44: [1, 0, 1, 0, 1, 1, 1], 63: [1, 0, 1, 1, 0, 0, 0], 255: [1, 0, 1, 1, 0, 0, 1, 0, 0, 0, 0], 228: [1, 0, 1, 1, 0, 0, 1, 0, 0, 0, 1], 177: [1, 0, 1, 1, 0, 0, 1, 0, 0, 1], 120: [1, 0, 1, 1, 0, 0, 1, 0, 1], 89: [1, 0, 1, 1, 0, 0, 1, 1], 62: [1, 0, 1, 1, 0, 1, 0], 45: [1, 0, 1, 1, 0, 1, 1], 121: [1, 0, 1, 1, 1, 0, 0, 0, 0], 175: [1, 0, 1, 1, 1, 0, 0, 0, 1, 0], 250: [1, 0, 1, 1, 1, 0, 0, 0, 1, 1, 0], 223: [1, 0, 1, 1, 1, 0, 0, 0, 1, 1, 1], 117: [1, 0, 1, 1, 1, 0, 0, 1, 0], 174: [1, 0, 1, 1, 1, 0, 0, 1, 1, 0], 171: [1, 0, 1, 1, 1, 0, 0, 1, 1, 1], 10: [1, 0, 1, 1, 1, 0, 1], 61: [1, 0, 1, 1, 1, 1, 0], 46: [1, 0, 1, 1, 1, 1, 1], 6: [1, 1, 0, 0, 0, 0], 47: [1, 1, 0, 0, 0, 1, 0], 88: [1, 1, 0, 0, 0, 1, 1, 0], 118: [1, 1, 0, 0, 0, 1, 1, 1, 0], 119: [1, 1, 0, 0, 0, 1, 1, 1, 1], 2: [1, 1, 0, 0, 1, 0], 49: [1, 1, 0, 0, 1, 1, 0], 173: [1, 1, 0, 0, 1, 1, 1, 0, 0, 0], 169: [1, 1, 0, 0, 1, 1, 1, 0, 0, 1], 114: [1, 1, 0, 0, 1, 1, 1, 0, 1], 87: [1, 1, 0, 0, 1, 1, 1, 1], 60: [1, 1, 0, 1, 0, 0, 0], 48: [1, 1, 0, 1, 0, 0, 1], 215: [1, 1, 0, 1, 0, 1, 0, 0, 0, 0, 0], 219: [1, 1, 0, 1, 0, 1, 0, 0, 0, 0, 1], 224: [1, 1, 0, 1, 0, 1, 0, 0, 0, 1, 0], 222: [1, 1, 0, 1, 0, 1, 0, 0, 0, 1, 1], 115: [1, 1, 0, 1, 0, 1, 0, 0, 1], 168: [1, 1, 0, 1, 0, 1, 0, 1, 0, 0], 170: [1, 1, 0, 1, 0, 1, 0, 1, 0, 1], 116: [1, 1, 0, 1, 0, 1, 0, 1, 1], 59: [1, 1, 0, 1, 0, 1, 1], 58: [1, 1, 0, 1, 1, 0, 0], 57: [1, 1, 0, 1, 1, 0, 1], 53: [1, 1, 0, 1, 1, 1, 0], 50: [1, 1, 0, 1, 1, 1, 1], 86: [1, 1, 1, 0, 0, 0, 0, 0], 113: [1, 1, 1, 0, 0, 0, 0, 1, 0], 218: [1, 1, 1, 0, 0, 0, 0, 1, 1, 0, 0], 220: [1, 1, 1, 0, 0, 0, 0, 1, 1, 0, 1], 165: [1, 1, 1, 0, 0, 0, 0, 1, 1, 1], 52: [1, 1, 1, 0, 0, 0, 1], 54: [1, 1, 1, 0, 0, 1, 0], 56: [1, 1, 1, 0, 0, 1, 1], 51: [1, 1, 1, 0, 1, 0, 0], 85: [1, 1, 1, 0, 1, 0, 1, 0], 111: [1, 1, 1, 0, 1, 0, 1, 1, 0], 112: [1, 1, 1, 0, 1, 0, 1, 1, 1], 5: [1, 1, 1, 0, 1, 1], 55: [1, 1, 1, 1, 0, 0, 0], 84: [1, 1, 1, 1, 0, 0, 1, 0], 221: [1, 1, 1, 1, 0, 0, 1, 1, 0, 0, 0], 214: [1, 1, 1, 1, 0, 0, 1, 1, 0, 0, 1], 164: [1, 1, 1, 1, 0, 0, 1, 1, 0, 1], 251: [1, 1, 1, 1, 0, 0, 1, 1, 1, 0, 0], 213: [1, 1, 1, 1, 0, 0, 1, 1, 1, 0, 1], 167: [1, 1, 1, 1, 0, 0, 1, 1, 1, 1], 3: [1, 1, 1, 1, 0, 1], 17: [1, 1, 1, 1, 1, 0, 0, 0], 19: [1, 1, 1, 1, 1, 0, 0, 1], 110: [1, 1, 1, 1, 1, 0, 1, 0, 0], 109: [1, 1, 1, 1, 1, 0, 1, 0, 1], 83: [1, 1, 1, 1, 1, 0, 1, 1], 4: [1, 1, 1, 1, 1, 1]}\n",
      "Estimated size: 617757 bytes\n",
      "Writing...\n",
      "* Header offset: 0\n",
      "* Tree offset: 4\n",
      "* Pixel offset: 324\n",
      "Wrote 617757 bytes.\n",
      "Estimate is correct.\n",
      "Compression ratio: 1.08\n",
      "----------------------------------------\n",
      "Decompressing \"answer.txt\" -> \"out.png\"\n",
      "Reading...\n",
      "* Header offset: 0\n",
      "* Tree offset: 4\n",
      "* Pixel offset: 324\n",
      "Read 617757 bytes.\n",
      "Image size: (height=354, width=630)\n",
      "Trimmed tree: (((((((20, 24), 9), (((108, ((217, 208), 166)), 22), (21, 18))), (((23, (107, (161, (216, 253)))), (25, 81)), ((82, 15), (((162, (206, 211)), 105), 16)))), ((((26, (((210, 254), 163), ((209, 212), 160))), (27, 80)), (((106, (((246, 242), 252), 156)), 28), (79, (104, (153, 159))))), (((14, (((207, 204), 155), 103)), (77, ((((243, 240), 205), 158), 102))), ((30, 29), (((154, 151), (157, (200, 198))), 78))))), (((((31, (101, (149, 152))), 8), ((13, 32), (((147, 145), ((201, (241, 245)), 148)), 76))), ((((100, 99), 34), (33, (((194, 202), (196, 203)), (150, 146)))), ((75, 74), ((97, 98), (((197, 191), 142), ((192, (244, 237)), (195, (235, 238)))))))), ((((35, ((139, 141), 96)), (12, (((193, 190), 143), (144, ((239, 236), 185))))), ((36, 73), (37, 71))), ((0, ((95, (((247, 233), 199), (189, (234, 248)))), 72)), (1, (((140, (188, 187)), (131, 135)), 38)))))), ((((((((134, 138), 93), (94, (136, (184, 186)))), (39, 70)), ((11, 69), 7)), (((((133, 128), (130, 137)), 40), (68, 41)), ((((132, ((230, 232), 181)), (129, 124)), 67), ((92, 91), 66)))), ((((42, (((183, 179), 125), ((180, (225, 249)), 126))), (43, (90, ((172, 178), 127)))), ((65, 64), ((((182, (231, 227)), 123), ((176, (229, 226)), 122)), 44))), (((63, ((((255, 228), 177), 120), 89)), (62, 45)), ((((121, (175, (250, 223))), (117, (174, 171))), 10), (61, 46))))), ((((6, (47, (88, (118, 119)))), (2, (49, (((173, 169), 114), 87)))), (((60, 48), (((((215, 219), (224, 222)), 115), ((168, 170), 116)), 59)), ((58, 57), (53, 50)))), (((((86, (113, ((218, 220), 165))), 52), (54, 56)), ((51, (85, (111, 112))), 5)), (((55, (84, (((221, 214), 164), ((251, 213), 167)))), 3), (((17, 19), ((110, 109), 83)), 4))))))\n",
      "----------------------------------------\n",
      "Run time takes 7240 miliseconds\n",
      "Images equal = True\n"
     ]
    }
   ],
   "source": [
    "def raw_size(width, height):\n",
    "    header_size = 2 * 16 # height and width as 16 bit values\n",
    "    pixels_size = 3 * 8 * width * height # 3 channels, 8 bits per channel\n",
    "    return (header_size + pixels_size) / 8\n",
    "\n",
    "def images_equal(file_name_a, file_name_b):\n",
    "    image_a = Image.open(file_name_a)\n",
    "    image_b = Image.open(file_name_b)\n",
    "\n",
    "    diff = ImageChops.difference(image_a, image_b)\n",
    "\n",
    "    return diff.getbbox() is None\n",
    "\n",
    "if __name__ == '__main__':\n",
    "    start = time.time()\n",
    "\n",
    "    compress_image('tiger.png', 'answer.txt')\n",
    "\n",
    "    print('-' * 40)\n",
    "\n",
    "    decompress_image('answer.txt', 'out.png')\n",
    "\n",
    "    stop = time.time()\n",
    "    times = (stop - start) * 1000\n",
    "\n",
    "    print('-' * 40)\n",
    "\n",
    "    print('Run time takes %d miliseconds' % times)\n",
    "    print('Images equal = %s' % images_equal('tiger.png', 'out.png'))"
   ]
  },
  {
   "cell_type": "code",
   "execution_count": null,
   "metadata": {},
   "outputs": [],
   "source": []
  },
  {
   "cell_type": "code",
   "execution_count": null,
   "metadata": {},
   "outputs": [],
   "source": []
  },
  {
   "cell_type": "code",
   "execution_count": null,
   "metadata": {},
   "outputs": [],
   "source": []
  },
  {
   "cell_type": "code",
   "execution_count": null,
   "metadata": {},
   "outputs": [],
   "source": []
  },
  {
   "cell_type": "code",
   "execution_count": null,
   "metadata": {},
   "outputs": [],
   "source": []
  },
  {
   "cell_type": "code",
   "execution_count": null,
   "metadata": {},
   "outputs": [],
   "source": []
  }
 ],
 "metadata": {
  "kernelspec": {
   "display_name": "Python 3.7.7 64-bit ('default': conda)",
   "language": "python",
   "name": "python_defaultSpec_1598391795218"
  },
  "language_info": {
   "codemirror_mode": {
    "name": "ipython",
    "version": 3
   },
   "file_extension": ".py",
   "mimetype": "text/x-python",
   "name": "python",
   "nbconvert_exporter": "python",
   "pygments_lexer": "ipython3",
   "version": "3.7.7-final"
  }
 },
 "nbformat": 4,
 "nbformat_minor": 4
}